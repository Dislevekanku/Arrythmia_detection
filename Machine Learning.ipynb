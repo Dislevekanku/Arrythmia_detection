{
 "cells": [
  {
   "cell_type": "markdown",
   "id": "0d79a299",
   "metadata": {},
   "source": [
    "# Machine Learning"
   ]
  },
  {
   "cell_type": "code",
   "execution_count": 2,
   "id": "bf1c02b7",
   "metadata": {},
   "outputs": [],
   "source": [
    "import numpy as np\n",
    "import matplotlib.pyplot as plt\n",
    "import seaborn as sns\n",
    "import pandas as pd"
   ]
  },
  {
   "cell_type": "code",
   "execution_count": 3,
   "id": "5b086031",
   "metadata": {},
   "outputs": [],
   "source": [
    "%matplotlib inline"
   ]
  },
  {
   "cell_type": "markdown",
   "id": "a50c05e3",
   "metadata": {},
   "source": [
    "## Loading Data"
   ]
  },
  {
   "cell_type": "code",
   "execution_count": 4,
   "id": "369d6b4a",
   "metadata": {},
   "outputs": [],
   "source": [
    "ecg_data = pd.read_csv(\"./processed_data/ecg_data.csv\", index_col=0)"
   ]
  },
  {
   "cell_type": "code",
   "execution_count": 5,
   "id": "f6b8aca5",
   "metadata": {},
   "outputs": [
    {
     "data": {
      "text/html": [
       "<div>\n",
       "<style scoped>\n",
       "    .dataframe tbody tr th:only-of-type {\n",
       "        vertical-align: middle;\n",
       "    }\n",
       "\n",
       "    .dataframe tbody tr th {\n",
       "        vertical-align: top;\n",
       "    }\n",
       "\n",
       "    .dataframe thead th {\n",
       "        text-align: right;\n",
       "    }\n",
       "</style>\n",
       "<table border=\"1\" class=\"dataframe\">\n",
       "  <thead>\n",
       "    <tr style=\"text-align: right;\">\n",
       "      <th></th>\n",
       "      <th>Segment Start</th>\n",
       "      <th>Segment End</th>\n",
       "      <th>xs0</th>\n",
       "      <th>xs1</th>\n",
       "      <th>xs2</th>\n",
       "      <th>xs3</th>\n",
       "      <th>xs4</th>\n",
       "      <th>xs5</th>\n",
       "      <th>xs6</th>\n",
       "      <th>xs7</th>\n",
       "      <th>...</th>\n",
       "      <th>xs193</th>\n",
       "      <th>xs194</th>\n",
       "      <th>xs195</th>\n",
       "      <th>xs196</th>\n",
       "      <th>xs197</th>\n",
       "      <th>xs198</th>\n",
       "      <th>xs199</th>\n",
       "      <th>Annotation Class</th>\n",
       "      <th>Annotation Class Numeric</th>\n",
       "      <th>acn</th>\n",
       "    </tr>\n",
       "  </thead>\n",
       "  <tbody>\n",
       "    <tr>\n",
       "      <th>0</th>\n",
       "      <td>1284</td>\n",
       "      <td>1484</td>\n",
       "      <td>-0.058556</td>\n",
       "      <td>-0.058059</td>\n",
       "      <td>-0.057155</td>\n",
       "      <td>-0.055940</td>\n",
       "      <td>-0.054796</td>\n",
       "      <td>-0.054158</td>\n",
       "      <td>-0.054142</td>\n",
       "      <td>-0.054503</td>\n",
       "      <td>...</td>\n",
       "      <td>0.137641</td>\n",
       "      <td>0.140489</td>\n",
       "      <td>0.142698</td>\n",
       "      <td>0.144437</td>\n",
       "      <td>0.145646</td>\n",
       "      <td>0.146243</td>\n",
       "      <td>0.146136</td>\n",
       "      <td>N</td>\n",
       "      <td>1</td>\n",
       "      <td>0</td>\n",
       "    </tr>\n",
       "    <tr>\n",
       "      <th>1</th>\n",
       "      <td>605479</td>\n",
       "      <td>605679</td>\n",
       "      <td>0.049140</td>\n",
       "      <td>0.048014</td>\n",
       "      <td>0.045255</td>\n",
       "      <td>0.041231</td>\n",
       "      <td>0.036522</td>\n",
       "      <td>0.031692</td>\n",
       "      <td>0.027114</td>\n",
       "      <td>0.022902</td>\n",
       "      <td>...</td>\n",
       "      <td>-0.053165</td>\n",
       "      <td>-0.055104</td>\n",
       "      <td>-0.056937</td>\n",
       "      <td>-0.058567</td>\n",
       "      <td>-0.060173</td>\n",
       "      <td>-0.062033</td>\n",
       "      <td>-0.064229</td>\n",
       "      <td>L</td>\n",
       "      <td>4</td>\n",
       "      <td>3</td>\n",
       "    </tr>\n",
       "    <tr>\n",
       "      <th>2</th>\n",
       "      <td>21845</td>\n",
       "      <td>22045</td>\n",
       "      <td>0.059978</td>\n",
       "      <td>0.058579</td>\n",
       "      <td>0.056865</td>\n",
       "      <td>0.055295</td>\n",
       "      <td>0.053764</td>\n",
       "      <td>0.051974</td>\n",
       "      <td>0.049704</td>\n",
       "      <td>0.046862</td>\n",
       "      <td>...</td>\n",
       "      <td>-0.062430</td>\n",
       "      <td>-0.063122</td>\n",
       "      <td>-0.064830</td>\n",
       "      <td>-0.067566</td>\n",
       "      <td>-0.070728</td>\n",
       "      <td>-0.073325</td>\n",
       "      <td>-0.074336</td>\n",
       "      <td>N</td>\n",
       "      <td>1</td>\n",
       "      <td>0</td>\n",
       "    </tr>\n",
       "    <tr>\n",
       "      <th>3</th>\n",
       "      <td>324166</td>\n",
       "      <td>324366</td>\n",
       "      <td>-0.075383</td>\n",
       "      <td>-0.076869</td>\n",
       "      <td>-0.079413</td>\n",
       "      <td>-0.083536</td>\n",
       "      <td>-0.088039</td>\n",
       "      <td>-0.090900</td>\n",
       "      <td>-0.090414</td>\n",
       "      <td>-0.086158</td>\n",
       "      <td>...</td>\n",
       "      <td>-0.040858</td>\n",
       "      <td>-0.040343</td>\n",
       "      <td>-0.041029</td>\n",
       "      <td>-0.043588</td>\n",
       "      <td>-0.048406</td>\n",
       "      <td>-0.055377</td>\n",
       "      <td>-0.063800</td>\n",
       "      <td>N</td>\n",
       "      <td>1</td>\n",
       "      <td>0</td>\n",
       "    </tr>\n",
       "    <tr>\n",
       "      <th>4</th>\n",
       "      <td>127439</td>\n",
       "      <td>127639</td>\n",
       "      <td>-0.017049</td>\n",
       "      <td>-0.019908</td>\n",
       "      <td>-0.022371</td>\n",
       "      <td>-0.023693</td>\n",
       "      <td>-0.023386</td>\n",
       "      <td>-0.021627</td>\n",
       "      <td>-0.018949</td>\n",
       "      <td>-0.015967</td>\n",
       "      <td>...</td>\n",
       "      <td>0.009679</td>\n",
       "      <td>0.003653</td>\n",
       "      <td>-0.000938</td>\n",
       "      <td>-0.003769</td>\n",
       "      <td>-0.004935</td>\n",
       "      <td>-0.004898</td>\n",
       "      <td>-0.004357</td>\n",
       "      <td>N</td>\n",
       "      <td>1</td>\n",
       "      <td>0</td>\n",
       "    </tr>\n",
       "  </tbody>\n",
       "</table>\n",
       "<p>5 rows × 205 columns</p>\n",
       "</div>"
      ],
      "text/plain": [
       "   Segment Start  Segment End       xs0       xs1       xs2       xs3  \\\n",
       "0           1284         1484 -0.058556 -0.058059 -0.057155 -0.055940   \n",
       "1         605479       605679  0.049140  0.048014  0.045255  0.041231   \n",
       "2          21845        22045  0.059978  0.058579  0.056865  0.055295   \n",
       "3         324166       324366 -0.075383 -0.076869 -0.079413 -0.083536   \n",
       "4         127439       127639 -0.017049 -0.019908 -0.022371 -0.023693   \n",
       "\n",
       "        xs4       xs5       xs6       xs7  ...     xs193     xs194     xs195  \\\n",
       "0 -0.054796 -0.054158 -0.054142 -0.054503  ...  0.137641  0.140489  0.142698   \n",
       "1  0.036522  0.031692  0.027114  0.022902  ... -0.053165 -0.055104 -0.056937   \n",
       "2  0.053764  0.051974  0.049704  0.046862  ... -0.062430 -0.063122 -0.064830   \n",
       "3 -0.088039 -0.090900 -0.090414 -0.086158  ... -0.040858 -0.040343 -0.041029   \n",
       "4 -0.023386 -0.021627 -0.018949 -0.015967  ...  0.009679  0.003653 -0.000938   \n",
       "\n",
       "      xs196     xs197     xs198     xs199  Annotation Class  \\\n",
       "0  0.144437  0.145646  0.146243  0.146136                 N   \n",
       "1 -0.058567 -0.060173 -0.062033 -0.064229                 L   \n",
       "2 -0.067566 -0.070728 -0.073325 -0.074336                 N   \n",
       "3 -0.043588 -0.048406 -0.055377 -0.063800                 N   \n",
       "4 -0.003769 -0.004935 -0.004898 -0.004357                 N   \n",
       "\n",
       "   Annotation Class Numeric  acn  \n",
       "0                         1    0  \n",
       "1                         4    3  \n",
       "2                         1    0  \n",
       "3                         1    0  \n",
       "4                         1    0  \n",
       "\n",
       "[5 rows x 205 columns]"
      ]
     },
     "execution_count": 5,
     "metadata": {},
     "output_type": "execute_result"
    }
   ],
   "source": [
    "ecg_data.head()"
   ]
  },
  {
   "cell_type": "code",
   "execution_count": 6,
   "id": "9d5b88f5",
   "metadata": {},
   "outputs": [
    {
     "data": {
      "text/plain": [
       "array(['N', 'L', 'V', 'R', '/'], dtype=object)"
      ]
     },
     "execution_count": 6,
     "metadata": {},
     "output_type": "execute_result"
    }
   ],
   "source": [
    "ecg_data[\"Annotation Class\"].unique()"
   ]
  },
  {
   "cell_type": "code",
   "execution_count": 7,
   "id": "73a54b33",
   "metadata": {},
   "outputs": [
    {
     "data": {
      "text/plain": [
       "5"
      ]
     },
     "execution_count": 7,
     "metadata": {},
     "output_type": "execute_result"
    }
   ],
   "source": [
    "ecg_data[\"Annotation Class\"].nunique()"
   ]
  },
  {
   "cell_type": "code",
   "execution_count": 8,
   "id": "384dd746",
   "metadata": {},
   "outputs": [
    {
     "data": {
      "text/plain": [
       "Annotation Class\n",
       "N    73439\n",
       "L     8068\n",
       "R     7255\n",
       "V     6793\n",
       "/     3619\n",
       "Name: count, dtype: int64"
      ]
     },
     "execution_count": 8,
     "metadata": {},
     "output_type": "execute_result"
    }
   ],
   "source": [
    "ecg_data[\"Annotation Class\"].value_counts()"
   ]
  },
  {
   "cell_type": "markdown",
   "id": "df26432a",
   "metadata": {},
   "source": [
    "## Preprocessing"
   ]
  },
  {
   "cell_type": "markdown",
   "id": "49c9a1ea",
   "metadata": {},
   "source": [
    "### Converting Non Numeric Column to Numeric discontinuous Columns"
   ]
  },
  {
   "cell_type": "code",
   "execution_count": 9,
   "id": "a6f275ee",
   "metadata": {},
   "outputs": [],
   "source": [
    "annotation_dict = dict()\n",
    "for i, symbol in enumerate(ecg_data[\"Annotation Class\"].unique()):\n",
    "    annotation_dict[symbol] = i + 1\n",
    "ecg_data[\"Annotation Class Numeric\"] = ecg_data[\"Annotation Class\"].apply(\n",
    "    lambda x: annotation_dict[x]\n",
    ")"
   ]
  },
  {
   "cell_type": "code",
   "execution_count": 10,
   "id": "61efef6c",
   "metadata": {},
   "outputs": [
    {
     "data": {
      "text/html": [
       "<div>\n",
       "<style scoped>\n",
       "    .dataframe tbody tr th:only-of-type {\n",
       "        vertical-align: middle;\n",
       "    }\n",
       "\n",
       "    .dataframe tbody tr th {\n",
       "        vertical-align: top;\n",
       "    }\n",
       "\n",
       "    .dataframe thead th {\n",
       "        text-align: right;\n",
       "    }\n",
       "</style>\n",
       "<table border=\"1\" class=\"dataframe\">\n",
       "  <thead>\n",
       "    <tr style=\"text-align: right;\">\n",
       "      <th></th>\n",
       "      <th>Segment Start</th>\n",
       "      <th>Segment End</th>\n",
       "      <th>xs0</th>\n",
       "      <th>xs1</th>\n",
       "      <th>xs2</th>\n",
       "      <th>xs3</th>\n",
       "      <th>xs4</th>\n",
       "      <th>xs5</th>\n",
       "      <th>xs6</th>\n",
       "      <th>xs7</th>\n",
       "      <th>...</th>\n",
       "      <th>xs193</th>\n",
       "      <th>xs194</th>\n",
       "      <th>xs195</th>\n",
       "      <th>xs196</th>\n",
       "      <th>xs197</th>\n",
       "      <th>xs198</th>\n",
       "      <th>xs199</th>\n",
       "      <th>Annotation Class</th>\n",
       "      <th>Annotation Class Numeric</th>\n",
       "      <th>acn</th>\n",
       "    </tr>\n",
       "  </thead>\n",
       "  <tbody>\n",
       "    <tr>\n",
       "      <th>0</th>\n",
       "      <td>1284</td>\n",
       "      <td>1484</td>\n",
       "      <td>-0.058556</td>\n",
       "      <td>-0.058059</td>\n",
       "      <td>-0.057155</td>\n",
       "      <td>-0.055940</td>\n",
       "      <td>-0.054796</td>\n",
       "      <td>-0.054158</td>\n",
       "      <td>-0.054142</td>\n",
       "      <td>-0.054503</td>\n",
       "      <td>...</td>\n",
       "      <td>0.137641</td>\n",
       "      <td>0.140489</td>\n",
       "      <td>0.142698</td>\n",
       "      <td>0.144437</td>\n",
       "      <td>0.145646</td>\n",
       "      <td>0.146243</td>\n",
       "      <td>0.146136</td>\n",
       "      <td>N</td>\n",
       "      <td>1</td>\n",
       "      <td>0</td>\n",
       "    </tr>\n",
       "    <tr>\n",
       "      <th>1</th>\n",
       "      <td>605479</td>\n",
       "      <td>605679</td>\n",
       "      <td>0.049140</td>\n",
       "      <td>0.048014</td>\n",
       "      <td>0.045255</td>\n",
       "      <td>0.041231</td>\n",
       "      <td>0.036522</td>\n",
       "      <td>0.031692</td>\n",
       "      <td>0.027114</td>\n",
       "      <td>0.022902</td>\n",
       "      <td>...</td>\n",
       "      <td>-0.053165</td>\n",
       "      <td>-0.055104</td>\n",
       "      <td>-0.056937</td>\n",
       "      <td>-0.058567</td>\n",
       "      <td>-0.060173</td>\n",
       "      <td>-0.062033</td>\n",
       "      <td>-0.064229</td>\n",
       "      <td>L</td>\n",
       "      <td>2</td>\n",
       "      <td>3</td>\n",
       "    </tr>\n",
       "    <tr>\n",
       "      <th>2</th>\n",
       "      <td>21845</td>\n",
       "      <td>22045</td>\n",
       "      <td>0.059978</td>\n",
       "      <td>0.058579</td>\n",
       "      <td>0.056865</td>\n",
       "      <td>0.055295</td>\n",
       "      <td>0.053764</td>\n",
       "      <td>0.051974</td>\n",
       "      <td>0.049704</td>\n",
       "      <td>0.046862</td>\n",
       "      <td>...</td>\n",
       "      <td>-0.062430</td>\n",
       "      <td>-0.063122</td>\n",
       "      <td>-0.064830</td>\n",
       "      <td>-0.067566</td>\n",
       "      <td>-0.070728</td>\n",
       "      <td>-0.073325</td>\n",
       "      <td>-0.074336</td>\n",
       "      <td>N</td>\n",
       "      <td>1</td>\n",
       "      <td>0</td>\n",
       "    </tr>\n",
       "    <tr>\n",
       "      <th>3</th>\n",
       "      <td>324166</td>\n",
       "      <td>324366</td>\n",
       "      <td>-0.075383</td>\n",
       "      <td>-0.076869</td>\n",
       "      <td>-0.079413</td>\n",
       "      <td>-0.083536</td>\n",
       "      <td>-0.088039</td>\n",
       "      <td>-0.090900</td>\n",
       "      <td>-0.090414</td>\n",
       "      <td>-0.086158</td>\n",
       "      <td>...</td>\n",
       "      <td>-0.040858</td>\n",
       "      <td>-0.040343</td>\n",
       "      <td>-0.041029</td>\n",
       "      <td>-0.043588</td>\n",
       "      <td>-0.048406</td>\n",
       "      <td>-0.055377</td>\n",
       "      <td>-0.063800</td>\n",
       "      <td>N</td>\n",
       "      <td>1</td>\n",
       "      <td>0</td>\n",
       "    </tr>\n",
       "    <tr>\n",
       "      <th>4</th>\n",
       "      <td>127439</td>\n",
       "      <td>127639</td>\n",
       "      <td>-0.017049</td>\n",
       "      <td>-0.019908</td>\n",
       "      <td>-0.022371</td>\n",
       "      <td>-0.023693</td>\n",
       "      <td>-0.023386</td>\n",
       "      <td>-0.021627</td>\n",
       "      <td>-0.018949</td>\n",
       "      <td>-0.015967</td>\n",
       "      <td>...</td>\n",
       "      <td>0.009679</td>\n",
       "      <td>0.003653</td>\n",
       "      <td>-0.000938</td>\n",
       "      <td>-0.003769</td>\n",
       "      <td>-0.004935</td>\n",
       "      <td>-0.004898</td>\n",
       "      <td>-0.004357</td>\n",
       "      <td>N</td>\n",
       "      <td>1</td>\n",
       "      <td>0</td>\n",
       "    </tr>\n",
       "  </tbody>\n",
       "</table>\n",
       "<p>5 rows × 205 columns</p>\n",
       "</div>"
      ],
      "text/plain": [
       "   Segment Start  Segment End       xs0       xs1       xs2       xs3  \\\n",
       "0           1284         1484 -0.058556 -0.058059 -0.057155 -0.055940   \n",
       "1         605479       605679  0.049140  0.048014  0.045255  0.041231   \n",
       "2          21845        22045  0.059978  0.058579  0.056865  0.055295   \n",
       "3         324166       324366 -0.075383 -0.076869 -0.079413 -0.083536   \n",
       "4         127439       127639 -0.017049 -0.019908 -0.022371 -0.023693   \n",
       "\n",
       "        xs4       xs5       xs6       xs7  ...     xs193     xs194     xs195  \\\n",
       "0 -0.054796 -0.054158 -0.054142 -0.054503  ...  0.137641  0.140489  0.142698   \n",
       "1  0.036522  0.031692  0.027114  0.022902  ... -0.053165 -0.055104 -0.056937   \n",
       "2  0.053764  0.051974  0.049704  0.046862  ... -0.062430 -0.063122 -0.064830   \n",
       "3 -0.088039 -0.090900 -0.090414 -0.086158  ... -0.040858 -0.040343 -0.041029   \n",
       "4 -0.023386 -0.021627 -0.018949 -0.015967  ...  0.009679  0.003653 -0.000938   \n",
       "\n",
       "      xs196     xs197     xs198     xs199  Annotation Class  \\\n",
       "0  0.144437  0.145646  0.146243  0.146136                 N   \n",
       "1 -0.058567 -0.060173 -0.062033 -0.064229                 L   \n",
       "2 -0.067566 -0.070728 -0.073325 -0.074336                 N   \n",
       "3 -0.043588 -0.048406 -0.055377 -0.063800                 N   \n",
       "4 -0.003769 -0.004935 -0.004898 -0.004357                 N   \n",
       "\n",
       "   Annotation Class Numeric  acn  \n",
       "0                         1    0  \n",
       "1                         2    3  \n",
       "2                         1    0  \n",
       "3                         1    0  \n",
       "4                         1    0  \n",
       "\n",
       "[5 rows x 205 columns]"
      ]
     },
     "execution_count": 10,
     "metadata": {},
     "output_type": "execute_result"
    }
   ],
   "source": [
    "ecg_data.head()"
   ]
  },
  {
   "cell_type": "markdown",
   "id": "c14d5839",
   "metadata": {},
   "source": [
    "## What each Annotation looks like?"
   ]
  },
  {
   "cell_type": "code",
   "execution_count": 11,
   "id": "d9801ade",
   "metadata": {},
   "outputs": [
    {
     "data": {
      "image/png": "[encoded data removed]",
      "text/plain": [
       "<Figure size 1000x800 with 1 Axes>"
      ]
     },
     "metadata": {},
     "output_type": "display_data"
    },
    {
     "data": {
      "image/png": "[encoded data removed]",
      "text/plain": [
       "<Figure size 1000x800 with 1 Axes>"
      ]
     },
     "metadata": {},
     "output_type": "display_data"
    },
    {
     "data": {
      "image/png": "[encoded data removed]",
      "text/plain": [
       "<Figure size 1000x800 with 1 Axes>"
      ]
     },
     "metadata": {},
     "output_type": "display_data"
    },
    {
     "data": {
      "image/png": "[encoded data removed]",
      "text/plain": [
       "<Figure size 1000x800 with 1 Axes>"
      ]
     },
     "metadata": {},
     "output_type": "display_data"
    },
    {
     "data": {
      "image/png": "[encoded data removed]",
      "text/plain": [
       "<Figure size 1000x800 with 1 Axes>"
      ]
     },
     "metadata": {},
     "output_type": "display_data"
    }
   ],
   "source": [
    "x_columns = [f'xs{i}' for i in range(200)]\n",
    "\n",
    "for symbol in ecg_data[\"Annotation Class\"].unique():\n",
    "    readings = (\n",
    "        ecg_data[ecg_data[\"Annotation Class\"] == symbol].head(1)[x_columns].values[0]\n",
    "    )\n",
    "    plt.figure(figsize=(10, 8))\n",
    "    plt.title(label=symbol)\n",
    "    plt.plot(readings)\n",
    "    plt.show()\n"
   ]
  },
  {
   "cell_type": "markdown",
   "id": "2f5aee18",
   "metadata": {},
   "source": [
    "## Splitting into Test and Train Data"
   ]
  },
  {
   "cell_type": "code",
   "execution_count": 12,
   "id": "ed55e0b0",
   "metadata": {},
   "outputs": [],
   "source": [
    "from sklearn.preprocessing import MinMaxScaler\n",
    "from sklearn.pipeline import Pipeline\n",
    "from sklearn.model_selection import train_test_split"
   ]
  },
  {
   "cell_type": "code",
   "execution_count": 13,
   "id": "3313f494",
   "metadata": {},
   "outputs": [],
   "source": [
    "X = ecg_data[x_columns].values"
   ]
  },
  {
   "cell_type": "code",
   "execution_count": 14,
   "id": "4da6fb67",
   "metadata": {},
   "outputs": [],
   "source": [
    "y = ecg_data[\"Annotation Class Numeric\"].values"
   ]
  },
  {
   "cell_type": "code",
   "execution_count": 16,
   "id": "9caaf456",
   "metadata": {},
   "outputs": [],
   "source": [
    "X_train, X_test, y_train, y_test = train_test_split(\n",
    "    X, y, test_size=0.2, random_state=42, stratify=y, shuffle=True\n",
    ")\n",
    "X_train_1, X_val, y_train_1, y_val = train_test_split(\n",
    "    X_train, y_train, test_size=0.2, stratify=y_train, shuffle=True, random_state=42\n",
    ")"
   ]
  },
  {
   "cell_type": "code",
   "execution_count": 17,
   "id": "46b59cff",
   "metadata": {},
   "outputs": [
    {
     "data": {
      "text/plain": [
       "(79339, 200)"
      ]
     },
     "execution_count": 17,
     "metadata": {},
     "output_type": "execute_result"
    }
   ],
   "source": [
    "X_train.shape"
   ]
  },
  {
   "cell_type": "code",
   "execution_count": 18,
   "id": "18a81a0a",
   "metadata": {},
   "outputs": [
    {
     "data": {
      "text/plain": [
       "(79339,)"
      ]
     },
     "execution_count": 18,
     "metadata": {},
     "output_type": "execute_result"
    }
   ],
   "source": [
    "y_train.shape"
   ]
  },
  {
   "cell_type": "code",
   "execution_count": 19,
   "id": "2e2d9e3a",
   "metadata": {},
   "outputs": [
    {
     "data": {
      "text/plain": [
       "(19835, 200)"
      ]
     },
     "execution_count": 19,
     "metadata": {},
     "output_type": "execute_result"
    }
   ],
   "source": [
    "X_test.shape"
   ]
  },
  {
   "cell_type": "code",
   "execution_count": 20,
   "id": "ae446530",
   "metadata": {},
   "outputs": [
    {
     "data": {
      "text/plain": [
       "(19835,)"
      ]
     },
     "execution_count": 20,
     "metadata": {},
     "output_type": "execute_result"
    }
   ],
   "source": [
    "y_test.shape"
   ]
  },
  {
   "cell_type": "markdown",
   "id": "c7eb71e0",
   "metadata": {},
   "source": [
    "## Logistic Regression"
   ]
  },
  {
   "cell_type": "code",
   "execution_count": 21,
   "id": "cb2688f3",
   "metadata": {},
   "outputs": [],
   "source": [
    "from sklearn.linear_model import LogisticRegression\n",
    "from sklearn.model_selection import GridSearchCV"
   ]
  },
  {
   "cell_type": "code",
   "execution_count": 22,
   "id": "43f409ea",
   "metadata": {},
   "outputs": [],
   "source": [
    "lr_params = {\"multi_class\": [\"ovr\", \"multinomial\", \"auto\"]}"
   ]
  },
  {
   "cell_type": "code",
   "execution_count": 23,
   "id": "68399826",
   "metadata": {},
   "outputs": [],
   "source": [
    "pipeline = Pipeline([\n",
    "    (\"scaler\", MinMaxScaler()),  # Add a scaler step\n",
    "    (\"lr\", GridSearchCV(LogisticRegression(max_iter=1000), lr_params, verbose=3)),\n",
    "])\n"
   ]
  },
  {
   "cell_type": "code",
   "execution_count": 24,
   "id": "ca8cecf4",
   "metadata": {},
   "outputs": [
    {
     "name": "stdout",
     "output_type": "stream",
     "text": [
      "Fitting 5 folds for each of 3 candidates, totalling 15 fits\n",
      "[CV 1/5] END ...................multi_class=ovr;, score=0.846 total time=  31.9s\n",
      "[CV 2/5] END ...................multi_class=ovr;, score=0.846 total time=  40.9s\n",
      "[CV 3/5] END ...................multi_class=ovr;, score=0.846 total time=  36.5s\n",
      "[CV 4/5] END ...................multi_class=ovr;, score=0.847 total time=  40.4s\n",
      "[CV 5/5] END ...................multi_class=ovr;, score=0.845 total time=  34.6s\n"
     ]
    },
    {
     "name": "stderr",
     "output_type": "stream",
     "text": [
      "c:\\Users\\disle\\miniconda3\\envs\\base_ds\\lib\\site-packages\\sklearn\\linear_model\\_logistic.py:460: ConvergenceWarning: lbfgs failed to converge (status=1):\n",
      "STOP: TOTAL NO. of ITERATIONS REACHED LIMIT.\n",
      "\n",
      "Increase the number of iterations (max_iter) or scale the data as shown in:\n",
      "    https://scikit-learn.org/stable/modules/preprocessing.html\n",
      "Please also refer to the documentation for alternative solver options:\n",
      "    https://scikit-learn.org/stable/modules/linear_model.html#logistic-regression\n",
      "  n_iter_i = _check_optimize_result(\n"
     ]
    },
    {
     "name": "stdout",
     "output_type": "stream",
     "text": [
      "[CV 1/5] END ...........multi_class=multinomial;, score=0.860 total time=  36.5s\n"
     ]
    },
    {
     "name": "stderr",
     "output_type": "stream",
     "text": [
      "c:\\Users\\disle\\miniconda3\\envs\\base_ds\\lib\\site-packages\\sklearn\\linear_model\\_logistic.py:460: ConvergenceWarning: lbfgs failed to converge (status=1):\n",
      "STOP: TOTAL NO. of ITERATIONS REACHED LIMIT.\n",
      "\n",
      "Increase the number of iterations (max_iter) or scale the data as shown in:\n",
      "    https://scikit-learn.org/stable/modules/preprocessing.html\n",
      "Please also refer to the documentation for alternative solver options:\n",
      "    https://scikit-learn.org/stable/modules/linear_model.html#logistic-regression\n",
      "  n_iter_i = _check_optimize_result(\n"
     ]
    },
    {
     "name": "stdout",
     "output_type": "stream",
     "text": [
      "[CV 2/5] END ...........multi_class=multinomial;, score=0.860 total time=  34.1s\n"
     ]
    },
    {
     "name": "stderr",
     "output_type": "stream",
     "text": [
      "c:\\Users\\disle\\miniconda3\\envs\\base_ds\\lib\\site-packages\\sklearn\\linear_model\\_logistic.py:460: ConvergenceWarning: lbfgs failed to converge (status=1):\n",
      "STOP: TOTAL NO. of ITERATIONS REACHED LIMIT.\n",
      "\n",
      "Increase the number of iterations (max_iter) or scale the data as shown in:\n",
      "    https://scikit-learn.org/stable/modules/preprocessing.html\n",
      "Please also refer to the documentation for alternative solver options:\n",
      "    https://scikit-learn.org/stable/modules/linear_model.html#logistic-regression\n",
      "  n_iter_i = _check_optimize_result(\n"
     ]
    },
    {
     "name": "stdout",
     "output_type": "stream",
     "text": [
      "[CV 3/5] END ...........multi_class=multinomial;, score=0.863 total time=  35.4s\n"
     ]
    },
    {
     "name": "stderr",
     "output_type": "stream",
     "text": [
      "c:\\Users\\disle\\miniconda3\\envs\\base_ds\\lib\\site-packages\\sklearn\\linear_model\\_logistic.py:460: ConvergenceWarning: lbfgs failed to converge (status=1):\n",
      "STOP: TOTAL NO. of ITERATIONS REACHED LIMIT.\n",
      "\n",
      "Increase the number of iterations (max_iter) or scale the data as shown in:\n",
      "    https://scikit-learn.org/stable/modules/preprocessing.html\n",
      "Please also refer to the documentation for alternative solver options:\n",
      "    https://scikit-learn.org/stable/modules/linear_model.html#logistic-regression\n",
      "  n_iter_i = _check_optimize_result(\n"
     ]
    },
    {
     "name": "stdout",
     "output_type": "stream",
     "text": [
      "[CV 4/5] END ...........multi_class=multinomial;, score=0.865 total time=  36.6s\n"
     ]
    },
    {
     "name": "stderr",
     "output_type": "stream",
     "text": [
      "c:\\Users\\disle\\miniconda3\\envs\\base_ds\\lib\\site-packages\\sklearn\\linear_model\\_logistic.py:460: ConvergenceWarning: lbfgs failed to converge (status=1):\n",
      "STOP: TOTAL NO. of ITERATIONS REACHED LIMIT.\n",
      "\n",
      "Increase the number of iterations (max_iter) or scale the data as shown in:\n",
      "    https://scikit-learn.org/stable/modules/preprocessing.html\n",
      "Please also refer to the documentation for alternative solver options:\n",
      "    https://scikit-learn.org/stable/modules/linear_model.html#logistic-regression\n",
      "  n_iter_i = _check_optimize_result(\n"
     ]
    },
    {
     "name": "stdout",
     "output_type": "stream",
     "text": [
      "[CV 5/5] END ...........multi_class=multinomial;, score=0.862 total time=  51.8s\n"
     ]
    },
    {
     "name": "stderr",
     "output_type": "stream",
     "text": [
      "c:\\Users\\disle\\miniconda3\\envs\\base_ds\\lib\\site-packages\\sklearn\\linear_model\\_logistic.py:460: ConvergenceWarning: lbfgs failed to converge (status=1):\n",
      "STOP: TOTAL NO. of ITERATIONS REACHED LIMIT.\n",
      "\n",
      "Increase the number of iterations (max_iter) or scale the data as shown in:\n",
      "    https://scikit-learn.org/stable/modules/preprocessing.html\n",
      "Please also refer to the documentation for alternative solver options:\n",
      "    https://scikit-learn.org/stable/modules/linear_model.html#logistic-regression\n",
      "  n_iter_i = _check_optimize_result(\n"
     ]
    },
    {
     "name": "stdout",
     "output_type": "stream",
     "text": [
      "[CV 1/5] END ..................multi_class=auto;, score=0.860 total time=  46.7s\n"
     ]
    },
    {
     "name": "stderr",
     "output_type": "stream",
     "text": [
      "c:\\Users\\disle\\miniconda3\\envs\\base_ds\\lib\\site-packages\\sklearn\\linear_model\\_logistic.py:460: ConvergenceWarning: lbfgs failed to converge (status=1):\n",
      "STOP: TOTAL NO. of ITERATIONS REACHED LIMIT.\n",
      "\n",
      "Increase the number of iterations (max_iter) or scale the data as shown in:\n",
      "    https://scikit-learn.org/stable/modules/preprocessing.html\n",
      "Please also refer to the documentation for alternative solver options:\n",
      "    https://scikit-learn.org/stable/modules/linear_model.html#logistic-regression\n",
      "  n_iter_i = _check_optimize_result(\n"
     ]
    },
    {
     "name": "stdout",
     "output_type": "stream",
     "text": [
      "[CV 2/5] END ..................multi_class=auto;, score=0.860 total time=  45.7s\n"
     ]
    },
    {
     "name": "stderr",
     "output_type": "stream",
     "text": [
      "c:\\Users\\disle\\miniconda3\\envs\\base_ds\\lib\\site-packages\\sklearn\\linear_model\\_logistic.py:460: ConvergenceWarning: lbfgs failed to converge (status=1):\n",
      "STOP: TOTAL NO. of ITERATIONS REACHED LIMIT.\n",
      "\n",
      "Increase the number of iterations (max_iter) or scale the data as shown in:\n",
      "    https://scikit-learn.org/stable/modules/preprocessing.html\n",
      "Please also refer to the documentation for alternative solver options:\n",
      "    https://scikit-learn.org/stable/modules/linear_model.html#logistic-regression\n",
      "  n_iter_i = _check_optimize_result(\n"
     ]
    },
    {
     "name": "stdout",
     "output_type": "stream",
     "text": [
      "[CV 3/5] END ..................multi_class=auto;, score=0.863 total time=  44.9s\n"
     ]
    },
    {
     "name": "stderr",
     "output_type": "stream",
     "text": [
      "c:\\Users\\disle\\miniconda3\\envs\\base_ds\\lib\\site-packages\\sklearn\\linear_model\\_logistic.py:460: ConvergenceWarning: lbfgs failed to converge (status=1):\n",
      "STOP: TOTAL NO. of ITERATIONS REACHED LIMIT.\n",
      "\n",
      "Increase the number of iterations (max_iter) or scale the data as shown in:\n",
      "    https://scikit-learn.org/stable/modules/preprocessing.html\n",
      "Please also refer to the documentation for alternative solver options:\n",
      "    https://scikit-learn.org/stable/modules/linear_model.html#logistic-regression\n",
      "  n_iter_i = _check_optimize_result(\n"
     ]
    },
    {
     "name": "stdout",
     "output_type": "stream",
     "text": [
      "[CV 4/5] END ..................multi_class=auto;, score=0.865 total time=  46.4s\n"
     ]
    },
    {
     "name": "stderr",
     "output_type": "stream",
     "text": [
      "c:\\Users\\disle\\miniconda3\\envs\\base_ds\\lib\\site-packages\\sklearn\\linear_model\\_logistic.py:460: ConvergenceWarning: lbfgs failed to converge (status=1):\n",
      "STOP: TOTAL NO. of ITERATIONS REACHED LIMIT.\n",
      "\n",
      "Increase the number of iterations (max_iter) or scale the data as shown in:\n",
      "    https://scikit-learn.org/stable/modules/preprocessing.html\n",
      "Please also refer to the documentation for alternative solver options:\n",
      "    https://scikit-learn.org/stable/modules/linear_model.html#logistic-regression\n",
      "  n_iter_i = _check_optimize_result(\n"
     ]
    },
    {
     "name": "stdout",
     "output_type": "stream",
     "text": [
      "[CV 5/5] END ..................multi_class=auto;, score=0.862 total time=  47.6s\n"
     ]
    },
    {
     "name": "stderr",
     "output_type": "stream",
     "text": [
      "c:\\Users\\disle\\miniconda3\\envs\\base_ds\\lib\\site-packages\\sklearn\\linear_model\\_logistic.py:460: ConvergenceWarning: lbfgs failed to converge (status=1):\n",
      "STOP: TOTAL NO. of ITERATIONS REACHED LIMIT.\n",
      "\n",
      "Increase the number of iterations (max_iter) or scale the data as shown in:\n",
      "    https://scikit-learn.org/stable/modules/preprocessing.html\n",
      "Please also refer to the documentation for alternative solver options:\n",
      "    https://scikit-learn.org/stable/modules/linear_model.html#logistic-regression\n",
      "  n_iter_i = _check_optimize_result(\n"
     ]
    },
    {
     "data": {
      "text/html": [
       "<style>#sk-container-id-1 {color: black;}#sk-container-id-1 pre{padding: 0;}#sk-container-id-1 div.sk-toggleable {background-color: white;}#sk-container-id-1 label.sk-toggleable__label {cursor: pointer;display: block;width: 100%;margin-bottom: 0;padding: 0.3em;box-sizing: border-box;text-align: center;}#sk-container-id-1 label.sk-toggleable__label-arrow:before {content: \"▸\";float: left;margin-right: 0.25em;color: #696969;}#sk-container-id-1 label.sk-toggleable__label-arrow:hover:before {color: black;}#sk-container-id-1 div.sk-estimator:hover label.sk-toggleable__label-arrow:before {color: black;}#sk-container-id-1 div.sk-toggleable__content {max-height: 0;max-width: 0;overflow: hidden;text-align: left;background-color: #f0f8ff;}#sk-container-id-1 div.sk-toggleable__content pre {margin: 0.2em;color: black;border-radius: 0.25em;background-color: #f0f8ff;}#sk-container-id-1 input.sk-toggleable__control:checked~div.sk-toggleable__content {max-height: 200px;max-width: 100%;overflow: auto;}#sk-container-id-1 input.sk-toggleable__control:checked~label.sk-toggleable__label-arrow:before {content: \"▾\";}#sk-container-id-1 div.sk-estimator input.sk-toggleable__control:checked~label.sk-toggleable__label {background-color: #d4ebff;}#sk-container-id-1 div.sk-label input.sk-toggleable__control:checked~label.sk-toggleable__label {background-color: #d4ebff;}#sk-container-id-1 input.sk-hidden--visually {border: 0;clip: rect(1px 1px 1px 1px);clip: rect(1px, 1px, 1px, 1px);height: 1px;margin: -1px;overflow: hidden;padding: 0;position: absolute;width: 1px;}#sk-container-id-1 div.sk-estimator {font-family: monospace;background-color: #f0f8ff;border: 1px dotted black;border-radius: 0.25em;box-sizing: border-box;margin-bottom: 0.5em;}#sk-container-id-1 div.sk-estimator:hover {background-color: #d4ebff;}#sk-container-id-1 div.sk-parallel-item::after {content: \"\";width: 100%;border-bottom: 1px solid gray;flex-grow: 1;}#sk-container-id-1 div.sk-label:hover label.sk-toggleable__label {background-color: #d4ebff;}#sk-container-id-1 div.sk-serial::before {content: \"\";position: absolute;border-left: 1px solid gray;box-sizing: border-box;top: 0;bottom: 0;left: 50%;z-index: 0;}#sk-container-id-1 div.sk-serial {display: flex;flex-direction: column;align-items: center;background-color: white;padding-right: 0.2em;padding-left: 0.2em;position: relative;}#sk-container-id-1 div.sk-item {position: relative;z-index: 1;}#sk-container-id-1 div.sk-parallel {display: flex;align-items: stretch;justify-content: center;background-color: white;position: relative;}#sk-container-id-1 div.sk-item::before, #sk-container-id-1 div.sk-parallel-item::before {content: \"\";position: absolute;border-left: 1px solid gray;box-sizing: border-box;top: 0;bottom: 0;left: 50%;z-index: -1;}#sk-container-id-1 div.sk-parallel-item {display: flex;flex-direction: column;z-index: 1;position: relative;background-color: white;}#sk-container-id-1 div.sk-parallel-item:first-child::after {align-self: flex-end;width: 50%;}#sk-container-id-1 div.sk-parallel-item:last-child::after {align-self: flex-start;width: 50%;}#sk-container-id-1 div.sk-parallel-item:only-child::after {width: 0;}#sk-container-id-1 div.sk-dashed-wrapped {border: 1px dashed gray;margin: 0 0.4em 0.5em 0.4em;box-sizing: border-box;padding-bottom: 0.4em;background-color: white;}#sk-container-id-1 div.sk-label label {font-family: monospace;font-weight: bold;display: inline-block;line-height: 1.2em;}#sk-container-id-1 div.sk-label-container {text-align: center;}#sk-container-id-1 div.sk-container {/* jupyter's `normalize.less` sets `[hidden] { display: none; }` but bootstrap.min.css set `[hidden] { display: none !important; }` so we also need the `!important` here to be able to override the default hidden behavior on the sphinx rendered scikit-learn.org. See: https://github.com/scikit-learn/scikit-learn/issues/21755 */display: inline-block !important;position: relative;}#sk-container-id-1 div.sk-text-repr-fallback {display: none;}</style><div id=\"sk-container-id-1\" class=\"sk-top-container\"><div class=\"sk-text-repr-fallback\"><pre>Pipeline(steps=[(&#x27;scaler&#x27;, MinMaxScaler()),\n",
       "                (&#x27;lr&#x27;,\n",
       "                 GridSearchCV(estimator=LogisticRegression(max_iter=1000),\n",
       "                              param_grid={&#x27;multi_class&#x27;: [&#x27;ovr&#x27;, &#x27;multinomial&#x27;,\n",
       "                                                          &#x27;auto&#x27;]},\n",
       "                              verbose=3))])</pre><b>In a Jupyter environment, please rerun this cell to show the HTML representation or trust the notebook. <br />On GitHub, the HTML representation is unable to render, please try loading this page with nbviewer.org.</b></div><div class=\"sk-container\" hidden><div class=\"sk-item sk-dashed-wrapped\"><div class=\"sk-label-container\"><div class=\"sk-label sk-toggleable\"><input class=\"sk-toggleable__control sk-hidden--visually\" id=\"sk-estimator-id-1\" type=\"checkbox\" ><label for=\"sk-estimator-id-1\" class=\"sk-toggleable__label sk-toggleable__label-arrow\">Pipeline</label><div class=\"sk-toggleable__content\"><pre>Pipeline(steps=[(&#x27;scaler&#x27;, MinMaxScaler()),\n",
       "                (&#x27;lr&#x27;,\n",
       "                 GridSearchCV(estimator=LogisticRegression(max_iter=1000),\n",
       "                              param_grid={&#x27;multi_class&#x27;: [&#x27;ovr&#x27;, &#x27;multinomial&#x27;,\n",
       "                                                          &#x27;auto&#x27;]},\n",
       "                              verbose=3))])</pre></div></div></div><div class=\"sk-serial\"><div class=\"sk-item\"><div class=\"sk-estimator sk-toggleable\"><input class=\"sk-toggleable__control sk-hidden--visually\" id=\"sk-estimator-id-2\" type=\"checkbox\" ><label for=\"sk-estimator-id-2\" class=\"sk-toggleable__label sk-toggleable__label-arrow\">MinMaxScaler</label><div class=\"sk-toggleable__content\"><pre>MinMaxScaler()</pre></div></div></div><div class=\"sk-item sk-dashed-wrapped\"><div class=\"sk-label-container\"><div class=\"sk-label sk-toggleable\"><input class=\"sk-toggleable__control sk-hidden--visually\" id=\"sk-estimator-id-3\" type=\"checkbox\" ><label for=\"sk-estimator-id-3\" class=\"sk-toggleable__label sk-toggleable__label-arrow\">lr: GridSearchCV</label><div class=\"sk-toggleable__content\"><pre>GridSearchCV(estimator=LogisticRegression(max_iter=1000),\n",
       "             param_grid={&#x27;multi_class&#x27;: [&#x27;ovr&#x27;, &#x27;multinomial&#x27;, &#x27;auto&#x27;]},\n",
       "             verbose=3)</pre></div></div></div><div class=\"sk-parallel\"><div class=\"sk-parallel-item\"><div class=\"sk-item\"><div class=\"sk-label-container\"><div class=\"sk-label sk-toggleable\"><input class=\"sk-toggleable__control sk-hidden--visually\" id=\"sk-estimator-id-4\" type=\"checkbox\" ><label for=\"sk-estimator-id-4\" class=\"sk-toggleable__label sk-toggleable__label-arrow\">estimator: LogisticRegression</label><div class=\"sk-toggleable__content\"><pre>LogisticRegression(max_iter=1000)</pre></div></div></div><div class=\"sk-serial\"><div class=\"sk-item\"><div class=\"sk-estimator sk-toggleable\"><input class=\"sk-toggleable__control sk-hidden--visually\" id=\"sk-estimator-id-5\" type=\"checkbox\" ><label for=\"sk-estimator-id-5\" class=\"sk-toggleable__label sk-toggleable__label-arrow\">LogisticRegression</label><div class=\"sk-toggleable__content\"><pre>LogisticRegression(max_iter=1000)</pre></div></div></div></div></div></div></div></div></div></div></div></div>"
      ],
      "text/plain": [
       "Pipeline(steps=[('scaler', MinMaxScaler()),\n",
       "                ('lr',\n",
       "                 GridSearchCV(estimator=LogisticRegression(max_iter=1000),\n",
       "                              param_grid={'multi_class': ['ovr', 'multinomial',\n",
       "                                                          'auto']},\n",
       "                              verbose=3))])"
      ]
     },
     "execution_count": 24,
     "metadata": {},
     "output_type": "execute_result"
    }
   ],
   "source": [
    "pipeline.fit(X_train, y_train)"
   ]
  },
  {
   "cell_type": "code",
   "execution_count": 25,
   "id": "22107962",
   "metadata": {},
   "outputs": [],
   "source": [
    "pred = pipeline.predict(X_test)"
   ]
  },
  {
   "cell_type": "code",
   "execution_count": 26,
   "id": "1e475882",
   "metadata": {},
   "outputs": [],
   "source": [
    "from sklearn.metrics import classification_report, confusion_matrix, accuracy_score"
   ]
  },
  {
   "cell_type": "code",
   "execution_count": 27,
   "id": "7b1422b1",
   "metadata": {},
   "outputs": [
    {
     "name": "stdout",
     "output_type": "stream",
     "text": [
      "[[14439   112    91    37     9]\n",
      " [  828   736    49     1     0]\n",
      " [  608   105   544    86    15]\n",
      " [  697    34    16   704     0]\n",
      " [    1    23     6     0   694]]\n"
     ]
    }
   ],
   "source": [
    "print(confusion_matrix(y_test, pred))"
   ]
  },
  {
   "cell_type": "code",
   "execution_count": 28,
   "id": "ead03979",
   "metadata": {},
   "outputs": [
    {
     "name": "stdout",
     "output_type": "stream",
     "text": [
      "              precision    recall  f1-score   support\n",
      "\n",
      "           1       0.87      0.98      0.92     14688\n",
      "           2       0.73      0.46      0.56      1614\n",
      "           3       0.77      0.40      0.53      1358\n",
      "           4       0.85      0.49      0.62      1451\n",
      "           5       0.97      0.96      0.96       724\n",
      "\n",
      "    accuracy                           0.86     19835\n",
      "   macro avg       0.84      0.66      0.72     19835\n",
      "weighted avg       0.85      0.86      0.85     19835\n",
      "\n"
     ]
    }
   ],
   "source": [
    "print(classification_report(y_test, pred))"
   ]
  },
  {
   "cell_type": "markdown",
   "id": "acf1acbd",
   "metadata": {},
   "source": [
    "## KNN"
   ]
  },
  {
   "cell_type": "code",
   "execution_count": 29,
   "id": "e8acadcd",
   "metadata": {},
   "outputs": [],
   "source": [
    "from sklearn.neighbors import KNeighborsClassifier"
   ]
  },
  {
   "cell_type": "code",
   "execution_count": 30,
   "id": "3f11bac9",
   "metadata": {},
   "outputs": [
    {
     "name": "stdout",
     "output_type": "stream",
     "text": [
      "Neighbours 1\n",
      "Loss: 0.004474413914797076\n",
      "Neighbours 501\n",
      "Loss: 0.053440887320393246\n",
      "Neighbours 1001\n",
      "Loss: 0.08690446180993194\n",
      "Neighbours 1501\n",
      "Loss: 0.11948575749936981\n",
      "Neighbours 2001\n",
      "Loss: 0.15011343584572726\n",
      "Neighbours 2501\n",
      "Loss: 0.18704310562137635\n",
      "Neighbours 3001\n",
      "Loss: 0.21036047390975549\n",
      "Neighbours 3501\n",
      "Loss: 0.2179858835391984\n",
      "Neighbours 4001\n",
      "Loss: 0.2230274766826317\n",
      "Neighbours 4501\n",
      "Loss: 0.22825812956894379\n"
     ]
    }
   ],
   "source": [
    "error_rate = []\n",
    "for i in range(1, 5000, 500):\n",
    "    knn = Pipeline(\n",
    "        [(\"minmax\", MinMaxScaler()), (\"knn\", KNeighborsClassifier(n_neighbors=i))]\n",
    "    )\n",
    "    knn.fit(X_train_1, y_train_1)\n",
    "    pred_i = knn.predict(X_val)\n",
    "    print(f\"Neighbours {i}\")\n",
    "    print(f\"Loss: {np.mean(pred_i !=y_val)}\")\n",
    "    # Take the mean where prediction is not equal to actual\n",
    "    error_rate.append(np.mean(pred_i != y_val))"
   ]
  },
  {
   "cell_type": "code",
   "execution_count": 31,
   "id": "c68e0f53",
   "metadata": {},
   "outputs": [
    {
     "data": {
      "text/plain": [
       "Text(0, 0.5, 'Error Rate')"
      ]
     },
     "execution_count": 31,
     "metadata": {},
     "output_type": "execute_result"
    },
    {
     "data": {
      "image/png": "[encoded data removed]",
      "text/plain": [
       "<Figure size 1000x600 with 1 Axes>"
      ]
     },
     "metadata": {},
     "output_type": "display_data"
    }
   ],
   "source": [
    "plt.figure(figsize=(10, 6))\n",
    "plt.plot(\n",
    "    range(1, 5000, 500),\n",
    "    error_rate,\n",
    "    color=\"blue\",\n",
    "    linestyle=\"dashed\",\n",
    "    marker=\"o\",\n",
    "    markerfacecolor=\"red\",\n",
    "    markersize=10,\n",
    ")\n",
    "plt.title(\"Error Rate vs K Value\")\n",
    "plt.xlabel(\"K\")\n",
    "plt.ylabel(\"Error Rate\")"
   ]
  },
  {
   "cell_type": "code",
   "execution_count": 32,
   "id": "1c54343f",
   "metadata": {},
   "outputs": [
    {
     "data": {
      "text/html": [
       "<style>#sk-container-id-2 {color: black;}#sk-container-id-2 pre{padding: 0;}#sk-container-id-2 div.sk-toggleable {background-color: white;}#sk-container-id-2 label.sk-toggleable__label {cursor: pointer;display: block;width: 100%;margin-bottom: 0;padding: 0.3em;box-sizing: border-box;text-align: center;}#sk-container-id-2 label.sk-toggleable__label-arrow:before {content: \"▸\";float: left;margin-right: 0.25em;color: #696969;}#sk-container-id-2 label.sk-toggleable__label-arrow:hover:before {color: black;}#sk-container-id-2 div.sk-estimator:hover label.sk-toggleable__label-arrow:before {color: black;}#sk-container-id-2 div.sk-toggleable__content {max-height: 0;max-width: 0;overflow: hidden;text-align: left;background-color: #f0f8ff;}#sk-container-id-2 div.sk-toggleable__content pre {margin: 0.2em;color: black;border-radius: 0.25em;background-color: #f0f8ff;}#sk-container-id-2 input.sk-toggleable__control:checked~div.sk-toggleable__content {max-height: 200px;max-width: 100%;overflow: auto;}#sk-container-id-2 input.sk-toggleable__control:checked~label.sk-toggleable__label-arrow:before {content: \"▾\";}#sk-container-id-2 div.sk-estimator input.sk-toggleable__control:checked~label.sk-toggleable__label {background-color: #d4ebff;}#sk-container-id-2 div.sk-label input.sk-toggleable__control:checked~label.sk-toggleable__label {background-color: #d4ebff;}#sk-container-id-2 input.sk-hidden--visually {border: 0;clip: rect(1px 1px 1px 1px);clip: rect(1px, 1px, 1px, 1px);height: 1px;margin: -1px;overflow: hidden;padding: 0;position: absolute;width: 1px;}#sk-container-id-2 div.sk-estimator {font-family: monospace;background-color: #f0f8ff;border: 1px dotted black;border-radius: 0.25em;box-sizing: border-box;margin-bottom: 0.5em;}#sk-container-id-2 div.sk-estimator:hover {background-color: #d4ebff;}#sk-container-id-2 div.sk-parallel-item::after {content: \"\";width: 100%;border-bottom: 1px solid gray;flex-grow: 1;}#sk-container-id-2 div.sk-label:hover label.sk-toggleable__label {background-color: #d4ebff;}#sk-container-id-2 div.sk-serial::before {content: \"\";position: absolute;border-left: 1px solid gray;box-sizing: border-box;top: 0;bottom: 0;left: 50%;z-index: 0;}#sk-container-id-2 div.sk-serial {display: flex;flex-direction: column;align-items: center;background-color: white;padding-right: 0.2em;padding-left: 0.2em;position: relative;}#sk-container-id-2 div.sk-item {position: relative;z-index: 1;}#sk-container-id-2 div.sk-parallel {display: flex;align-items: stretch;justify-content: center;background-color: white;position: relative;}#sk-container-id-2 div.sk-item::before, #sk-container-id-2 div.sk-parallel-item::before {content: \"\";position: absolute;border-left: 1px solid gray;box-sizing: border-box;top: 0;bottom: 0;left: 50%;z-index: -1;}#sk-container-id-2 div.sk-parallel-item {display: flex;flex-direction: column;z-index: 1;position: relative;background-color: white;}#sk-container-id-2 div.sk-parallel-item:first-child::after {align-self: flex-end;width: 50%;}#sk-container-id-2 div.sk-parallel-item:last-child::after {align-self: flex-start;width: 50%;}#sk-container-id-2 div.sk-parallel-item:only-child::after {width: 0;}#sk-container-id-2 div.sk-dashed-wrapped {border: 1px dashed gray;margin: 0 0.4em 0.5em 0.4em;box-sizing: border-box;padding-bottom: 0.4em;background-color: white;}#sk-container-id-2 div.sk-label label {font-family: monospace;font-weight: bold;display: inline-block;line-height: 1.2em;}#sk-container-id-2 div.sk-label-container {text-align: center;}#sk-container-id-2 div.sk-container {/* jupyter's `normalize.less` sets `[hidden] { display: none; }` but bootstrap.min.css set `[hidden] { display: none !important; }` so we also need the `!important` here to be able to override the default hidden behavior on the sphinx rendered scikit-learn.org. See: https://github.com/scikit-learn/scikit-learn/issues/21755 */display: inline-block !important;position: relative;}#sk-container-id-2 div.sk-text-repr-fallback {display: none;}</style><div id=\"sk-container-id-2\" class=\"sk-top-container\"><div class=\"sk-text-repr-fallback\"><pre>Pipeline(steps=[(&#x27;minmax&#x27;, MinMaxScaler()), (&#x27;knn&#x27;, KNeighborsClassifier())])</pre><b>In a Jupyter environment, please rerun this cell to show the HTML representation or trust the notebook. <br />On GitHub, the HTML representation is unable to render, please try loading this page with nbviewer.org.</b></div><div class=\"sk-container\" hidden><div class=\"sk-item sk-dashed-wrapped\"><div class=\"sk-label-container\"><div class=\"sk-label sk-toggleable\"><input class=\"sk-toggleable__control sk-hidden--visually\" id=\"sk-estimator-id-6\" type=\"checkbox\" ><label for=\"sk-estimator-id-6\" class=\"sk-toggleable__label sk-toggleable__label-arrow\">Pipeline</label><div class=\"sk-toggleable__content\"><pre>Pipeline(steps=[(&#x27;minmax&#x27;, MinMaxScaler()), (&#x27;knn&#x27;, KNeighborsClassifier())])</pre></div></div></div><div class=\"sk-serial\"><div class=\"sk-item\"><div class=\"sk-estimator sk-toggleable\"><input class=\"sk-toggleable__control sk-hidden--visually\" id=\"sk-estimator-id-7\" type=\"checkbox\" ><label for=\"sk-estimator-id-7\" class=\"sk-toggleable__label sk-toggleable__label-arrow\">MinMaxScaler</label><div class=\"sk-toggleable__content\"><pre>MinMaxScaler()</pre></div></div></div><div class=\"sk-item\"><div class=\"sk-estimator sk-toggleable\"><input class=\"sk-toggleable__control sk-hidden--visually\" id=\"sk-estimator-id-8\" type=\"checkbox\" ><label for=\"sk-estimator-id-8\" class=\"sk-toggleable__label sk-toggleable__label-arrow\">KNeighborsClassifier</label><div class=\"sk-toggleable__content\"><pre>KNeighborsClassifier()</pre></div></div></div></div></div></div></div>"
      ],
      "text/plain": [
       "Pipeline(steps=[('minmax', MinMaxScaler()), ('knn', KNeighborsClassifier())])"
      ]
     },
     "execution_count": 32,
     "metadata": {},
     "output_type": "execute_result"
    }
   ],
   "source": [
    "knn = Pipeline(\n",
    "    [(\"minmax\", MinMaxScaler()), (\"knn\", KNeighborsClassifier(n_neighbors=5))]\n",
    ")\n",
    "knn.fit(X_train_1, y_train_1)"
   ]
  },
  {
   "cell_type": "code",
   "execution_count": 33,
   "id": "7a8df2a7",
   "metadata": {},
   "outputs": [],
   "source": [
    "pred = knn.predict(X_test)"
   ]
  },
  {
   "cell_type": "code",
   "execution_count": 34,
   "id": "53127da2",
   "metadata": {},
   "outputs": [
    {
     "name": "stdout",
     "output_type": "stream",
     "text": [
      "              precision    recall  f1-score   support\n",
      "\n",
      "           1       1.00      1.00      1.00     14688\n",
      "           2       0.99      0.99      0.99      1614\n",
      "           3       0.98      0.96      0.97      1358\n",
      "           4       0.99      1.00      0.99      1451\n",
      "           5       1.00      1.00      1.00       724\n",
      "\n",
      "    accuracy                           0.99     19835\n",
      "   macro avg       0.99      0.99      0.99     19835\n",
      "weighted avg       0.99      0.99      0.99     19835\n",
      "\n"
     ]
    }
   ],
   "source": [
    "print(classification_report(y_test, pred))"
   ]
  },
  {
   "cell_type": "code",
   "execution_count": 35,
   "id": "0f99567f",
   "metadata": {},
   "outputs": [
    {
     "name": "stdout",
     "output_type": "stream",
     "text": [
      "[[14652     9    21     6     0]\n",
      " [    6  1605     2     1     0]\n",
      " [   43     9  1305     1     0]\n",
      " [    7     0     0  1444     0]\n",
      " [    1     0     0     0   723]]\n"
     ]
    }
   ],
   "source": [
    "print(confusion_matrix(y_test, pred))"
   ]
  },
  {
   "cell_type": "code",
   "execution_count": 36,
   "id": "a3892e70",
   "metadata": {},
   "outputs": [
    {
     "name": "stdout",
     "output_type": "stream",
     "text": [
      "0.9946559112679607\n"
     ]
    }
   ],
   "source": [
    "print(accuracy_score(y_test, pred))"
   ]
  },
  {
   "cell_type": "markdown",
   "id": "6c8f6adf",
   "metadata": {},
   "source": [
    "## Decision Tree"
   ]
  },
  {
   "cell_type": "code",
   "execution_count": 37,
   "id": "8931c7fd",
   "metadata": {},
   "outputs": [],
   "source": [
    "from sklearn.tree import DecisionTreeClassifier"
   ]
  },
  {
   "cell_type": "code",
   "execution_count": 38,
   "id": "151e02e6",
   "metadata": {},
   "outputs": [],
   "source": [
    "dt_params = {\n",
    "    \"criterion\": [\"gini\", \"entropy\", \"log_loss\"],\n",
    "    \"splitter\": [\"best\", \"random\"],\n",
    "}\n",
    "dt = Pipeline(\n",
    "    [\n",
    "        (\"minmax\", MinMaxScaler()),\n",
    "        (\"Bayes\", GridSearchCV(DecisionTreeClassifier(), dt_params, verbose=3)),\n",
    "    ]\n",
    ")"
   ]
  },
  {
   "cell_type": "code",
   "execution_count": 39,
   "id": "79e05e20",
   "metadata": {},
   "outputs": [
    {
     "name": "stdout",
     "output_type": "stream",
     "text": [
      "Fitting 5 folds for each of 6 candidates, totalling 30 fits\n",
      "[CV 1/5] END .....criterion=gini, splitter=best;, score=0.979 total time= 5.3min\n",
      "[CV 2/5] END .....criterion=gini, splitter=best;, score=0.979 total time= 4.8min\n",
      "[CV 3/5] END .....criterion=gini, splitter=best;, score=0.977 total time= 3.8min\n",
      "[CV 4/5] END .....criterion=gini, splitter=best;, score=0.976 total time= 4.3min\n",
      "[CV 5/5] END .....criterion=gini, splitter=best;, score=0.977 total time= 3.9min\n",
      "[CV 1/5] END ...criterion=gini, splitter=random;, score=0.981 total time=  13.9s\n",
      "[CV 2/5] END ...criterion=gini, splitter=random;, score=0.983 total time=  11.0s\n",
      "[CV 3/5] END ...criterion=gini, splitter=random;, score=0.981 total time=  14.3s\n",
      "[CV 4/5] END ...criterion=gini, splitter=random;, score=0.980 total time=  13.3s\n",
      "[CV 5/5] END ...criterion=gini, splitter=random;, score=0.982 total time=  15.1s\n",
      "[CV 1/5] END ..criterion=entropy, splitter=best;, score=0.984 total time= 2.9min\n",
      "[CV 2/5] END ..criterion=entropy, splitter=best;, score=0.981 total time= 3.1min\n",
      "[CV 3/5] END ..criterion=entropy, splitter=best;, score=0.980 total time= 2.2min\n",
      "[CV 4/5] END ..criterion=entropy, splitter=best;, score=0.981 total time= 2.9min\n",
      "[CV 5/5] END ..criterion=entropy, splitter=best;, score=0.983 total time= 2.6min\n",
      "[CV 1/5] END criterion=entropy, splitter=random;, score=0.983 total time=   8.5s\n",
      "[CV 2/5] END criterion=entropy, splitter=random;, score=0.982 total time=   6.7s\n",
      "[CV 3/5] END criterion=entropy, splitter=random;, score=0.982 total time=  12.3s\n",
      "[CV 4/5] END criterion=entropy, splitter=random;, score=0.981 total time=  11.8s\n",
      "[CV 5/5] END criterion=entropy, splitter=random;, score=0.982 total time=  14.4s\n",
      "[CV 1/5] END .criterion=log_loss, splitter=best;, score=0.983 total time= 2.6min\n",
      "[CV 2/5] END .criterion=log_loss, splitter=best;, score=0.981 total time= 1.8min\n",
      "[CV 3/5] END .criterion=log_loss, splitter=best;, score=0.981 total time= 1.1min\n",
      "[CV 4/5] END .criterion=log_loss, splitter=best;, score=0.981 total time= 1.1min\n",
      "[CV 5/5] END .criterion=log_loss, splitter=best;, score=0.983 total time= 1.1min\n",
      "[CV 1/5] END criterion=log_loss, splitter=random;, score=0.982 total time=   2.8s\n",
      "[CV 2/5] END criterion=log_loss, splitter=random;, score=0.981 total time=   2.1s\n",
      "[CV 3/5] END criterion=log_loss, splitter=random;, score=0.984 total time=   2.1s\n",
      "[CV 4/5] END criterion=log_loss, splitter=random;, score=0.982 total time=   1.9s\n",
      "[CV 5/5] END criterion=log_loss, splitter=random;, score=0.982 total time=   2.5s\n"
     ]
    },
    {
     "data": {
      "text/html": [
       "<style>#sk-container-id-3 {color: black;}#sk-container-id-3 pre{padding: 0;}#sk-container-id-3 div.sk-toggleable {background-color: white;}#sk-container-id-3 label.sk-toggleable__label {cursor: pointer;display: block;width: 100%;margin-bottom: 0;padding: 0.3em;box-sizing: border-box;text-align: center;}#sk-container-id-3 label.sk-toggleable__label-arrow:before {content: \"▸\";float: left;margin-right: 0.25em;color: #696969;}#sk-container-id-3 label.sk-toggleable__label-arrow:hover:before {color: black;}#sk-container-id-3 div.sk-estimator:hover label.sk-toggleable__label-arrow:before {color: black;}#sk-container-id-3 div.sk-toggleable__content {max-height: 0;max-width: 0;overflow: hidden;text-align: left;background-color: #f0f8ff;}#sk-container-id-3 div.sk-toggleable__content pre {margin: 0.2em;color: black;border-radius: 0.25em;background-color: #f0f8ff;}#sk-container-id-3 input.sk-toggleable__control:checked~div.sk-toggleable__content {max-height: 200px;max-width: 100%;overflow: auto;}#sk-container-id-3 input.sk-toggleable__control:checked~label.sk-toggleable__label-arrow:before {content: \"▾\";}#sk-container-id-3 div.sk-estimator input.sk-toggleable__control:checked~label.sk-toggleable__label {background-color: #d4ebff;}#sk-container-id-3 div.sk-label input.sk-toggleable__control:checked~label.sk-toggleable__label {background-color: #d4ebff;}#sk-container-id-3 input.sk-hidden--visually {border: 0;clip: rect(1px 1px 1px 1px);clip: rect(1px, 1px, 1px, 1px);height: 1px;margin: -1px;overflow: hidden;padding: 0;position: absolute;width: 1px;}#sk-container-id-3 div.sk-estimator {font-family: monospace;background-color: #f0f8ff;border: 1px dotted black;border-radius: 0.25em;box-sizing: border-box;margin-bottom: 0.5em;}#sk-container-id-3 div.sk-estimator:hover {background-color: #d4ebff;}#sk-container-id-3 div.sk-parallel-item::after {content: \"\";width: 100%;border-bottom: 1px solid gray;flex-grow: 1;}#sk-container-id-3 div.sk-label:hover label.sk-toggleable__label {background-color: #d4ebff;}#sk-container-id-3 div.sk-serial::before {content: \"\";position: absolute;border-left: 1px solid gray;box-sizing: border-box;top: 0;bottom: 0;left: 50%;z-index: 0;}#sk-container-id-3 div.sk-serial {display: flex;flex-direction: column;align-items: center;background-color: white;padding-right: 0.2em;padding-left: 0.2em;position: relative;}#sk-container-id-3 div.sk-item {position: relative;z-index: 1;}#sk-container-id-3 div.sk-parallel {display: flex;align-items: stretch;justify-content: center;background-color: white;position: relative;}#sk-container-id-3 div.sk-item::before, #sk-container-id-3 div.sk-parallel-item::before {content: \"\";position: absolute;border-left: 1px solid gray;box-sizing: border-box;top: 0;bottom: 0;left: 50%;z-index: -1;}#sk-container-id-3 div.sk-parallel-item {display: flex;flex-direction: column;z-index: 1;position: relative;background-color: white;}#sk-container-id-3 div.sk-parallel-item:first-child::after {align-self: flex-end;width: 50%;}#sk-container-id-3 div.sk-parallel-item:last-child::after {align-self: flex-start;width: 50%;}#sk-container-id-3 div.sk-parallel-item:only-child::after {width: 0;}#sk-container-id-3 div.sk-dashed-wrapped {border: 1px dashed gray;margin: 0 0.4em 0.5em 0.4em;box-sizing: border-box;padding-bottom: 0.4em;background-color: white;}#sk-container-id-3 div.sk-label label {font-family: monospace;font-weight: bold;display: inline-block;line-height: 1.2em;}#sk-container-id-3 div.sk-label-container {text-align: center;}#sk-container-id-3 div.sk-container {/* jupyter's `normalize.less` sets `[hidden] { display: none; }` but bootstrap.min.css set `[hidden] { display: none !important; }` so we also need the `!important` here to be able to override the default hidden behavior on the sphinx rendered scikit-learn.org. See: https://github.com/scikit-learn/scikit-learn/issues/21755 */display: inline-block !important;position: relative;}#sk-container-id-3 div.sk-text-repr-fallback {display: none;}</style><div id=\"sk-container-id-3\" class=\"sk-top-container\"><div class=\"sk-text-repr-fallback\"><pre>Pipeline(steps=[(&#x27;minmax&#x27;, MinMaxScaler()),\n",
       "                (&#x27;Bayes&#x27;,\n",
       "                 GridSearchCV(estimator=DecisionTreeClassifier(),\n",
       "                              param_grid={&#x27;criterion&#x27;: [&#x27;gini&#x27;, &#x27;entropy&#x27;,\n",
       "                                                        &#x27;log_loss&#x27;],\n",
       "                                          &#x27;splitter&#x27;: [&#x27;best&#x27;, &#x27;random&#x27;]},\n",
       "                              verbose=3))])</pre><b>In a Jupyter environment, please rerun this cell to show the HTML representation or trust the notebook. <br />On GitHub, the HTML representation is unable to render, please try loading this page with nbviewer.org.</b></div><div class=\"sk-container\" hidden><div class=\"sk-item sk-dashed-wrapped\"><div class=\"sk-label-container\"><div class=\"sk-label sk-toggleable\"><input class=\"sk-toggleable__control sk-hidden--visually\" id=\"sk-estimator-id-9\" type=\"checkbox\" ><label for=\"sk-estimator-id-9\" class=\"sk-toggleable__label sk-toggleable__label-arrow\">Pipeline</label><div class=\"sk-toggleable__content\"><pre>Pipeline(steps=[(&#x27;minmax&#x27;, MinMaxScaler()),\n",
       "                (&#x27;Bayes&#x27;,\n",
       "                 GridSearchCV(estimator=DecisionTreeClassifier(),\n",
       "                              param_grid={&#x27;criterion&#x27;: [&#x27;gini&#x27;, &#x27;entropy&#x27;,\n",
       "                                                        &#x27;log_loss&#x27;],\n",
       "                                          &#x27;splitter&#x27;: [&#x27;best&#x27;, &#x27;random&#x27;]},\n",
       "                              verbose=3))])</pre></div></div></div><div class=\"sk-serial\"><div class=\"sk-item\"><div class=\"sk-estimator sk-toggleable\"><input class=\"sk-toggleable__control sk-hidden--visually\" id=\"sk-estimator-id-10\" type=\"checkbox\" ><label for=\"sk-estimator-id-10\" class=\"sk-toggleable__label sk-toggleable__label-arrow\">MinMaxScaler</label><div class=\"sk-toggleable__content\"><pre>MinMaxScaler()</pre></div></div></div><div class=\"sk-item sk-dashed-wrapped\"><div class=\"sk-label-container\"><div class=\"sk-label sk-toggleable\"><input class=\"sk-toggleable__control sk-hidden--visually\" id=\"sk-estimator-id-11\" type=\"checkbox\" ><label for=\"sk-estimator-id-11\" class=\"sk-toggleable__label sk-toggleable__label-arrow\">Bayes: GridSearchCV</label><div class=\"sk-toggleable__content\"><pre>GridSearchCV(estimator=DecisionTreeClassifier(),\n",
       "             param_grid={&#x27;criterion&#x27;: [&#x27;gini&#x27;, &#x27;entropy&#x27;, &#x27;log_loss&#x27;],\n",
       "                         &#x27;splitter&#x27;: [&#x27;best&#x27;, &#x27;random&#x27;]},\n",
       "             verbose=3)</pre></div></div></div><div class=\"sk-parallel\"><div class=\"sk-parallel-item\"><div class=\"sk-item\"><div class=\"sk-label-container\"><div class=\"sk-label sk-toggleable\"><input class=\"sk-toggleable__control sk-hidden--visually\" id=\"sk-estimator-id-12\" type=\"checkbox\" ><label for=\"sk-estimator-id-12\" class=\"sk-toggleable__label sk-toggleable__label-arrow\">estimator: DecisionTreeClassifier</label><div class=\"sk-toggleable__content\"><pre>DecisionTreeClassifier()</pre></div></div></div><div class=\"sk-serial\"><div class=\"sk-item\"><div class=\"sk-estimator sk-toggleable\"><input class=\"sk-toggleable__control sk-hidden--visually\" id=\"sk-estimator-id-13\" type=\"checkbox\" ><label for=\"sk-estimator-id-13\" class=\"sk-toggleable__label sk-toggleable__label-arrow\">DecisionTreeClassifier</label><div class=\"sk-toggleable__content\"><pre>DecisionTreeClassifier()</pre></div></div></div></div></div></div></div></div></div></div></div></div>"
      ],
      "text/plain": [
       "Pipeline(steps=[('minmax', MinMaxScaler()),\n",
       "                ('Bayes',\n",
       "                 GridSearchCV(estimator=DecisionTreeClassifier(),\n",
       "                              param_grid={'criterion': ['gini', 'entropy',\n",
       "                                                        'log_loss'],\n",
       "                                          'splitter': ['best', 'random']},\n",
       "                              verbose=3))])"
      ]
     },
     "execution_count": 39,
     "metadata": {},
     "output_type": "execute_result"
    }
   ],
   "source": [
    "dt.fit(X_train_1, y_train_1)"
   ]
  },
  {
   "cell_type": "code",
   "execution_count": 40,
   "id": "6e8123ca",
   "metadata": {},
   "outputs": [],
   "source": [
    "pred_val = dt.predict(X_val)"
   ]
  },
  {
   "cell_type": "code",
   "execution_count": 41,
   "id": "83a9f1cc",
   "metadata": {},
   "outputs": [
    {
     "name": "stdout",
     "output_type": "stream",
     "text": [
      "[[11632    44    53    20     1]\n",
      " [   18  1263    10     0     0]\n",
      " [   44    27  1002    10     4]\n",
      " [   19     1     9  1132     0]\n",
      " [    9     0     2     0   568]]\n"
     ]
    }
   ],
   "source": [
    "print(confusion_matrix(y_val, pred_val))"
   ]
  },
  {
   "cell_type": "code",
   "execution_count": 42,
   "id": "7e140153",
   "metadata": {},
   "outputs": [
    {
     "name": "stdout",
     "output_type": "stream",
     "text": [
      "              precision    recall  f1-score   support\n",
      "\n",
      "           1       0.99      0.99      0.99     11750\n",
      "           2       0.95      0.98      0.96      1291\n",
      "           3       0.93      0.92      0.93      1087\n",
      "           4       0.97      0.98      0.97      1161\n",
      "           5       0.99      0.98      0.99       579\n",
      "\n",
      "    accuracy                           0.98     15868\n",
      "   macro avg       0.97      0.97      0.97     15868\n",
      "weighted avg       0.98      0.98      0.98     15868\n",
      "\n"
     ]
    }
   ],
   "source": [
    "print(classification_report(y_val, pred_val))"
   ]
  },
  {
   "cell_type": "code",
   "execution_count": 43,
   "id": "2a4b4299",
   "metadata": {},
   "outputs": [],
   "source": [
    "pred = dt.predict(X_test)"
   ]
  },
  {
   "cell_type": "code",
   "execution_count": 44,
   "id": "eb839930",
   "metadata": {},
   "outputs": [
    {
     "name": "stdout",
     "output_type": "stream",
     "text": [
      "[[14557    25    64    41     1]\n",
      " [   26  1574    12     2     0]\n",
      " [   67    29  1248    10     4]\n",
      " [   24     0     6  1421     0]\n",
      " [    2     0     5     1   716]]\n"
     ]
    }
   ],
   "source": [
    "print(confusion_matrix(y_test, pred))"
   ]
  },
  {
   "cell_type": "code",
   "execution_count": 45,
   "id": "55058e2f",
   "metadata": {},
   "outputs": [
    {
     "name": "stdout",
     "output_type": "stream",
     "text": [
      "              precision    recall  f1-score   support\n",
      "\n",
      "           1       0.99      0.99      0.99     14688\n",
      "           2       0.97      0.98      0.97      1614\n",
      "           3       0.93      0.92      0.93      1358\n",
      "           4       0.96      0.98      0.97      1451\n",
      "           5       0.99      0.99      0.99       724\n",
      "\n",
      "    accuracy                           0.98     19835\n",
      "   macro avg       0.97      0.97      0.97     19835\n",
      "weighted avg       0.98      0.98      0.98     19835\n",
      "\n"
     ]
    }
   ],
   "source": [
    "print(classification_report(y_test, pred))"
   ]
  },
  {
   "cell_type": "markdown",
   "id": "f2eb111b",
   "metadata": {},
   "source": [
    "## Random Forest"
   ]
  },
  {
   "cell_type": "code",
   "execution_count": 46,
   "id": "b0d3cc56",
   "metadata": {},
   "outputs": [],
   "source": [
    "from sklearn.ensemble import RandomForestClassifier"
   ]
  },
  {
   "cell_type": "code",
   "execution_count": 47,
   "id": "07c720d6",
   "metadata": {},
   "outputs": [],
   "source": [
    "rand = Pipeline(\n",
    "    [(\"minmax\", MinMaxScaler()), (\"rand\", RandomForestClassifier(criterion=\"gini\"))]\n",
    ")"
   ]
  },
  {
   "cell_type": "code",
   "execution_count": 48,
   "id": "9495e402",
   "metadata": {},
   "outputs": [
    {
     "data": {
      "text/html": [
       "<style>#sk-container-id-4 {color: black;}#sk-container-id-4 pre{padding: 0;}#sk-container-id-4 div.sk-toggleable {background-color: white;}#sk-container-id-4 label.sk-toggleable__label {cursor: pointer;display: block;width: 100%;margin-bottom: 0;padding: 0.3em;box-sizing: border-box;text-align: center;}#sk-container-id-4 label.sk-toggleable__label-arrow:before {content: \"▸\";float: left;margin-right: 0.25em;color: #696969;}#sk-container-id-4 label.sk-toggleable__label-arrow:hover:before {color: black;}#sk-container-id-4 div.sk-estimator:hover label.sk-toggleable__label-arrow:before {color: black;}#sk-container-id-4 div.sk-toggleable__content {max-height: 0;max-width: 0;overflow: hidden;text-align: left;background-color: #f0f8ff;}#sk-container-id-4 div.sk-toggleable__content pre {margin: 0.2em;color: black;border-radius: 0.25em;background-color: #f0f8ff;}#sk-container-id-4 input.sk-toggleable__control:checked~div.sk-toggleable__content {max-height: 200px;max-width: 100%;overflow: auto;}#sk-container-id-4 input.sk-toggleable__control:checked~label.sk-toggleable__label-arrow:before {content: \"▾\";}#sk-container-id-4 div.sk-estimator input.sk-toggleable__control:checked~label.sk-toggleable__label {background-color: #d4ebff;}#sk-container-id-4 div.sk-label input.sk-toggleable__control:checked~label.sk-toggleable__label {background-color: #d4ebff;}#sk-container-id-4 input.sk-hidden--visually {border: 0;clip: rect(1px 1px 1px 1px);clip: rect(1px, 1px, 1px, 1px);height: 1px;margin: -1px;overflow: hidden;padding: 0;position: absolute;width: 1px;}#sk-container-id-4 div.sk-estimator {font-family: monospace;background-color: #f0f8ff;border: 1px dotted black;border-radius: 0.25em;box-sizing: border-box;margin-bottom: 0.5em;}#sk-container-id-4 div.sk-estimator:hover {background-color: #d4ebff;}#sk-container-id-4 div.sk-parallel-item::after {content: \"\";width: 100%;border-bottom: 1px solid gray;flex-grow: 1;}#sk-container-id-4 div.sk-label:hover label.sk-toggleable__label {background-color: #d4ebff;}#sk-container-id-4 div.sk-serial::before {content: \"\";position: absolute;border-left: 1px solid gray;box-sizing: border-box;top: 0;bottom: 0;left: 50%;z-index: 0;}#sk-container-id-4 div.sk-serial {display: flex;flex-direction: column;align-items: center;background-color: white;padding-right: 0.2em;padding-left: 0.2em;position: relative;}#sk-container-id-4 div.sk-item {position: relative;z-index: 1;}#sk-container-id-4 div.sk-parallel {display: flex;align-items: stretch;justify-content: center;background-color: white;position: relative;}#sk-container-id-4 div.sk-item::before, #sk-container-id-4 div.sk-parallel-item::before {content: \"\";position: absolute;border-left: 1px solid gray;box-sizing: border-box;top: 0;bottom: 0;left: 50%;z-index: -1;}#sk-container-id-4 div.sk-parallel-item {display: flex;flex-direction: column;z-index: 1;position: relative;background-color: white;}#sk-container-id-4 div.sk-parallel-item:first-child::after {align-self: flex-end;width: 50%;}#sk-container-id-4 div.sk-parallel-item:last-child::after {align-self: flex-start;width: 50%;}#sk-container-id-4 div.sk-parallel-item:only-child::after {width: 0;}#sk-container-id-4 div.sk-dashed-wrapped {border: 1px dashed gray;margin: 0 0.4em 0.5em 0.4em;box-sizing: border-box;padding-bottom: 0.4em;background-color: white;}#sk-container-id-4 div.sk-label label {font-family: monospace;font-weight: bold;display: inline-block;line-height: 1.2em;}#sk-container-id-4 div.sk-label-container {text-align: center;}#sk-container-id-4 div.sk-container {/* jupyter's `normalize.less` sets `[hidden] { display: none; }` but bootstrap.min.css set `[hidden] { display: none !important; }` so we also need the `!important` here to be able to override the default hidden behavior on the sphinx rendered scikit-learn.org. See: https://github.com/scikit-learn/scikit-learn/issues/21755 */display: inline-block !important;position: relative;}#sk-container-id-4 div.sk-text-repr-fallback {display: none;}</style><div id=\"sk-container-id-4\" class=\"sk-top-container\"><div class=\"sk-text-repr-fallback\"><pre>Pipeline(steps=[(&#x27;minmax&#x27;, MinMaxScaler()), (&#x27;rand&#x27;, RandomForestClassifier())])</pre><b>In a Jupyter environment, please rerun this cell to show the HTML representation or trust the notebook. <br />On GitHub, the HTML representation is unable to render, please try loading this page with nbviewer.org.</b></div><div class=\"sk-container\" hidden><div class=\"sk-item sk-dashed-wrapped\"><div class=\"sk-label-container\"><div class=\"sk-label sk-toggleable\"><input class=\"sk-toggleable__control sk-hidden--visually\" id=\"sk-estimator-id-14\" type=\"checkbox\" ><label for=\"sk-estimator-id-14\" class=\"sk-toggleable__label sk-toggleable__label-arrow\">Pipeline</label><div class=\"sk-toggleable__content\"><pre>Pipeline(steps=[(&#x27;minmax&#x27;, MinMaxScaler()), (&#x27;rand&#x27;, RandomForestClassifier())])</pre></div></div></div><div class=\"sk-serial\"><div class=\"sk-item\"><div class=\"sk-estimator sk-toggleable\"><input class=\"sk-toggleable__control sk-hidden--visually\" id=\"sk-estimator-id-15\" type=\"checkbox\" ><label for=\"sk-estimator-id-15\" class=\"sk-toggleable__label sk-toggleable__label-arrow\">MinMaxScaler</label><div class=\"sk-toggleable__content\"><pre>MinMaxScaler()</pre></div></div></div><div class=\"sk-item\"><div class=\"sk-estimator sk-toggleable\"><input class=\"sk-toggleable__control sk-hidden--visually\" id=\"sk-estimator-id-16\" type=\"checkbox\" ><label for=\"sk-estimator-id-16\" class=\"sk-toggleable__label sk-toggleable__label-arrow\">RandomForestClassifier</label><div class=\"sk-toggleable__content\"><pre>RandomForestClassifier()</pre></div></div></div></div></div></div></div>"
      ],
      "text/plain": [
       "Pipeline(steps=[('minmax', MinMaxScaler()), ('rand', RandomForestClassifier())])"
      ]
     },
     "execution_count": 48,
     "metadata": {},
     "output_type": "execute_result"
    }
   ],
   "source": [
    "rand.fit(X_train_1, y_train_1)"
   ]
  },
  {
   "cell_type": "code",
   "execution_count": 49,
   "id": "699f59a5",
   "metadata": {},
   "outputs": [],
   "source": [
    "pred_val = rand.predict(X_val)"
   ]
  },
  {
   "cell_type": "code",
   "execution_count": 50,
   "id": "0e241e0d",
   "metadata": {
    "scrolled": true
   },
   "outputs": [
    {
     "name": "stdout",
     "output_type": "stream",
     "text": [
      "              precision    recall  f1-score   support\n",
      "\n",
      "           1       0.99      1.00      1.00     11750\n",
      "           2       0.99      0.98      0.98      1291\n",
      "           3       0.97      0.96      0.96      1087\n",
      "           4       1.00      0.98      0.99      1161\n",
      "           5       1.00      1.00      1.00       579\n",
      "\n",
      "    accuracy                           0.99     15868\n",
      "   macro avg       0.99      0.98      0.99     15868\n",
      "weighted avg       0.99      0.99      0.99     15868\n",
      "\n"
     ]
    }
   ],
   "source": [
    "print(classification_report(y_val, pred_val))"
   ]
  },
  {
   "cell_type": "code",
   "execution_count": 51,
   "id": "675f86be",
   "metadata": {},
   "outputs": [
    {
     "name": "stdout",
     "output_type": "stream",
     "text": [
      "[[11729     3    17     1     0]\n",
      " [   17  1260    14     0     0]\n",
      " [   36     4  1044     2     1]\n",
      " [   20     1     2  1138     0]\n",
      " [    2     0     0     0   577]]\n"
     ]
    }
   ],
   "source": [
    "print(confusion_matrix(y_val, pred_val))"
   ]
  },
  {
   "cell_type": "code",
   "execution_count": 52,
   "id": "c2a09181",
   "metadata": {},
   "outputs": [],
   "source": [
    "pred = rand.predict(X_test)"
   ]
  },
  {
   "cell_type": "code",
   "execution_count": 53,
   "id": "9afac831",
   "metadata": {},
   "outputs": [
    {
     "name": "stdout",
     "output_type": "stream",
     "text": [
      "              precision    recall  f1-score   support\n",
      "\n",
      "           1       0.99      1.00      1.00     14688\n",
      "           2       0.99      0.98      0.99      1614\n",
      "           3       0.98      0.95      0.97      1358\n",
      "           4       1.00      0.98      0.99      1451\n",
      "           5       1.00      1.00      1.00       724\n",
      "\n",
      "    accuracy                           0.99     19835\n",
      "   macro avg       0.99      0.98      0.99     19835\n",
      "weighted avg       0.99      0.99      0.99     19835\n",
      "\n"
     ]
    }
   ],
   "source": [
    "print(classification_report(y_test, pred))"
   ]
  },
  {
   "cell_type": "code",
   "execution_count": 54,
   "id": "30794ef5",
   "metadata": {},
   "outputs": [
    {
     "name": "stdout",
     "output_type": "stream",
     "text": [
      "[[14668     3    16     1     0]\n",
      " [   20  1585     9     0     0]\n",
      " [   56     5  1295     1     1]\n",
      " [   25     0     0  1426     0]\n",
      " [    1     0     1     0   722]]\n"
     ]
    }
   ],
   "source": [
    "print(confusion_matrix(y_test, pred))"
   ]
  },
  {
   "cell_type": "markdown",
   "id": "981791cf",
   "metadata": {},
   "source": [
    "## SVM"
   ]
  },
  {
   "cell_type": "code",
   "execution_count": 55,
   "id": "e9acf10d",
   "metadata": {},
   "outputs": [],
   "source": [
    "from sklearn.svm import SVC"
   ]
  },
  {
   "cell_type": "code",
   "execution_count": 56,
   "id": "566cc354",
   "metadata": {},
   "outputs": [],
   "source": [
    "svm_param_grid = {\"C\": [0.1, 1, 10, 100, 1000], \"gamma\": [1, 0.1, 0.01, 0.001, 0.0001]}"
   ]
  },
  {
   "cell_type": "code",
   "execution_count": 57,
   "id": "668e83ef",
   "metadata": {},
   "outputs": [],
   "source": [
    "svm = Pipeline([(\"minmax\", MinMaxScaler()), (\"SVM\", SVC(C=0.1, gamma=1))])"
   ]
  },
  {
   "cell_type": "code",
   "execution_count": 58,
   "id": "c9935fec",
   "metadata": {},
   "outputs": [
    {
     "data": {
      "text/html": [
       "<style>#sk-container-id-5 {color: black;}#sk-container-id-5 pre{padding: 0;}#sk-container-id-5 div.sk-toggleable {background-color: white;}#sk-container-id-5 label.sk-toggleable__label {cursor: pointer;display: block;width: 100%;margin-bottom: 0;padding: 0.3em;box-sizing: border-box;text-align: center;}#sk-container-id-5 label.sk-toggleable__label-arrow:before {content: \"▸\";float: left;margin-right: 0.25em;color: #696969;}#sk-container-id-5 label.sk-toggleable__label-arrow:hover:before {color: black;}#sk-container-id-5 div.sk-estimator:hover label.sk-toggleable__label-arrow:before {color: black;}#sk-container-id-5 div.sk-toggleable__content {max-height: 0;max-width: 0;overflow: hidden;text-align: left;background-color: #f0f8ff;}#sk-container-id-5 div.sk-toggleable__content pre {margin: 0.2em;color: black;border-radius: 0.25em;background-color: #f0f8ff;}#sk-container-id-5 input.sk-toggleable__control:checked~div.sk-toggleable__content {max-height: 200px;max-width: 100%;overflow: auto;}#sk-container-id-5 input.sk-toggleable__control:checked~label.sk-toggleable__label-arrow:before {content: \"▾\";}#sk-container-id-5 div.sk-estimator input.sk-toggleable__control:checked~label.sk-toggleable__label {background-color: #d4ebff;}#sk-container-id-5 div.sk-label input.sk-toggleable__control:checked~label.sk-toggleable__label {background-color: #d4ebff;}#sk-container-id-5 input.sk-hidden--visually {border: 0;clip: rect(1px 1px 1px 1px);clip: rect(1px, 1px, 1px, 1px);height: 1px;margin: -1px;overflow: hidden;padding: 0;position: absolute;width: 1px;}#sk-container-id-5 div.sk-estimator {font-family: monospace;background-color: #f0f8ff;border: 1px dotted black;border-radius: 0.25em;box-sizing: border-box;margin-bottom: 0.5em;}#sk-container-id-5 div.sk-estimator:hover {background-color: #d4ebff;}#sk-container-id-5 div.sk-parallel-item::after {content: \"\";width: 100%;border-bottom: 1px solid gray;flex-grow: 1;}#sk-container-id-5 div.sk-label:hover label.sk-toggleable__label {background-color: #d4ebff;}#sk-container-id-5 div.sk-serial::before {content: \"\";position: absolute;border-left: 1px solid gray;box-sizing: border-box;top: 0;bottom: 0;left: 50%;z-index: 0;}#sk-container-id-5 div.sk-serial {display: flex;flex-direction: column;align-items: center;background-color: white;padding-right: 0.2em;padding-left: 0.2em;position: relative;}#sk-container-id-5 div.sk-item {position: relative;z-index: 1;}#sk-container-id-5 div.sk-parallel {display: flex;align-items: stretch;justify-content: center;background-color: white;position: relative;}#sk-container-id-5 div.sk-item::before, #sk-container-id-5 div.sk-parallel-item::before {content: \"\";position: absolute;border-left: 1px solid gray;box-sizing: border-box;top: 0;bottom: 0;left: 50%;z-index: -1;}#sk-container-id-5 div.sk-parallel-item {display: flex;flex-direction: column;z-index: 1;position: relative;background-color: white;}#sk-container-id-5 div.sk-parallel-item:first-child::after {align-self: flex-end;width: 50%;}#sk-container-id-5 div.sk-parallel-item:last-child::after {align-self: flex-start;width: 50%;}#sk-container-id-5 div.sk-parallel-item:only-child::after {width: 0;}#sk-container-id-5 div.sk-dashed-wrapped {border: 1px dashed gray;margin: 0 0.4em 0.5em 0.4em;box-sizing: border-box;padding-bottom: 0.4em;background-color: white;}#sk-container-id-5 div.sk-label label {font-family: monospace;font-weight: bold;display: inline-block;line-height: 1.2em;}#sk-container-id-5 div.sk-label-container {text-align: center;}#sk-container-id-5 div.sk-container {/* jupyter's `normalize.less` sets `[hidden] { display: none; }` but bootstrap.min.css set `[hidden] { display: none !important; }` so we also need the `!important` here to be able to override the default hidden behavior on the sphinx rendered scikit-learn.org. See: https://github.com/scikit-learn/scikit-learn/issues/21755 */display: inline-block !important;position: relative;}#sk-container-id-5 div.sk-text-repr-fallback {display: none;}</style><div id=\"sk-container-id-5\" class=\"sk-top-container\"><div class=\"sk-text-repr-fallback\"><pre>Pipeline(steps=[(&#x27;minmax&#x27;, MinMaxScaler()), (&#x27;SVM&#x27;, SVC(C=0.1, gamma=1))])</pre><b>In a Jupyter environment, please rerun this cell to show the HTML representation or trust the notebook. <br />On GitHub, the HTML representation is unable to render, please try loading this page with nbviewer.org.</b></div><div class=\"sk-container\" hidden><div class=\"sk-item sk-dashed-wrapped\"><div class=\"sk-label-container\"><div class=\"sk-label sk-toggleable\"><input class=\"sk-toggleable__control sk-hidden--visually\" id=\"sk-estimator-id-17\" type=\"checkbox\" ><label for=\"sk-estimator-id-17\" class=\"sk-toggleable__label sk-toggleable__label-arrow\">Pipeline</label><div class=\"sk-toggleable__content\"><pre>Pipeline(steps=[(&#x27;minmax&#x27;, MinMaxScaler()), (&#x27;SVM&#x27;, SVC(C=0.1, gamma=1))])</pre></div></div></div><div class=\"sk-serial\"><div class=\"sk-item\"><div class=\"sk-estimator sk-toggleable\"><input class=\"sk-toggleable__control sk-hidden--visually\" id=\"sk-estimator-id-18\" type=\"checkbox\" ><label for=\"sk-estimator-id-18\" class=\"sk-toggleable__label sk-toggleable__label-arrow\">MinMaxScaler</label><div class=\"sk-toggleable__content\"><pre>MinMaxScaler()</pre></div></div></div><div class=\"sk-item\"><div class=\"sk-estimator sk-toggleable\"><input class=\"sk-toggleable__control sk-hidden--visually\" id=\"sk-estimator-id-19\" type=\"checkbox\" ><label for=\"sk-estimator-id-19\" class=\"sk-toggleable__label sk-toggleable__label-arrow\">SVC</label><div class=\"sk-toggleable__content\"><pre>SVC(C=0.1, gamma=1)</pre></div></div></div></div></div></div></div>"
      ],
      "text/plain": [
       "Pipeline(steps=[('minmax', MinMaxScaler()), ('SVM', SVC(C=0.1, gamma=1))])"
      ]
     },
     "execution_count": 58,
     "metadata": {},
     "output_type": "execute_result"
    }
   ],
   "source": [
    "svm.fit(X_train_1, y_train_1)"
   ]
  },
  {
   "cell_type": "code",
   "execution_count": 59,
   "id": "2187e9f0",
   "metadata": {},
   "outputs": [],
   "source": [
    "pred_val = svm.predict(X_val)"
   ]
  },
  {
   "cell_type": "code",
   "execution_count": 60,
   "id": "047e9e78",
   "metadata": {},
   "outputs": [
    {
     "name": "stdout",
     "output_type": "stream",
     "text": [
      "              precision    recall  f1-score   support\n",
      "\n",
      "           1       0.98      0.99      0.98     11750\n",
      "           2       0.96      0.92      0.94      1291\n",
      "           3       0.94      0.90      0.92      1087\n",
      "           4       0.98      0.91      0.94      1161\n",
      "           5       0.99      0.99      0.99       579\n",
      "\n",
      "    accuracy                           0.97     15868\n",
      "   macro avg       0.97      0.94      0.96     15868\n",
      "weighted avg       0.97      0.97      0.97     15868\n",
      "\n"
     ]
    }
   ],
   "source": [
    "print(classification_report(y_val, pred_val))"
   ]
  },
  {
   "cell_type": "code",
   "execution_count": 61,
   "id": "eefa9667",
   "metadata": {},
   "outputs": [
    {
     "name": "stdout",
     "output_type": "stream",
     "text": [
      "[[11664    34    39    13     0]\n",
      " [   84  1191    16     0     0]\n",
      " [   84    15   973    10     5]\n",
      " [  106     1     1  1053     0]\n",
      " [    0     0     5     0   574]]\n"
     ]
    }
   ],
   "source": [
    "print(confusion_matrix(y_val, pred_val))"
   ]
  },
  {
   "cell_type": "code",
   "execution_count": 62,
   "id": "2c0d1ff2",
   "metadata": {},
   "outputs": [],
   "source": [
    "pred = svm.predict(X_test)"
   ]
  },
  {
   "cell_type": "code",
   "execution_count": 63,
   "id": "3866c76b",
   "metadata": {},
   "outputs": [
    {
     "name": "stdout",
     "output_type": "stream",
     "text": [
      "              precision    recall  f1-score   support\n",
      "\n",
      "           1       0.98      0.99      0.99     14688\n",
      "           2       0.97      0.92      0.94      1614\n",
      "           3       0.96      0.90      0.93      1358\n",
      "           4       0.98      0.91      0.95      1451\n",
      "           5       0.99      1.00      0.99       724\n",
      "\n",
      "    accuracy                           0.98     19835\n",
      "   macro avg       0.98      0.94      0.96     19835\n",
      "weighted avg       0.98      0.98      0.98     19835\n",
      "\n"
     ]
    }
   ],
   "source": [
    "print(classification_report(y_test, pred))"
   ]
  },
  {
   "cell_type": "code",
   "execution_count": 64,
   "id": "30346e5f",
   "metadata": {},
   "outputs": [
    {
     "name": "stdout",
     "output_type": "stream",
     "text": [
      "[[14613    26    35    14     0]\n",
      " [  120  1481    13     0     0]\n",
      " [  109    14  1219    11     5]\n",
      " [  124     0     0  1327     0]\n",
      " [    0     0     3     0   721]]\n"
     ]
    }
   ],
   "source": [
    "print(confusion_matrix(y_test, pred))"
   ]
  },
  {
   "cell_type": "markdown",
   "id": "f6b1b577",
   "metadata": {},
   "source": [
    "## Gaussian Naive Bayes"
   ]
  },
  {
   "cell_type": "code",
   "execution_count": 65,
   "id": "8d0522b6",
   "metadata": {},
   "outputs": [],
   "source": [
    "from sklearn.naive_bayes import GaussianNB"
   ]
  },
  {
   "cell_type": "code",
   "execution_count": 66,
   "id": "ecb7e581",
   "metadata": {},
   "outputs": [],
   "source": [
    "gnb = Pipeline([(\"minmax\", MinMaxScaler()), (\"GNB\", GaussianNB())])"
   ]
  },
  {
   "cell_type": "code",
   "execution_count": 67,
   "id": "bef935e1",
   "metadata": {},
   "outputs": [
    {
     "data": {
      "text/html": [
       "<style>#sk-container-id-6 {color: black;}#sk-container-id-6 pre{padding: 0;}#sk-container-id-6 div.sk-toggleable {background-color: white;}#sk-container-id-6 label.sk-toggleable__label {cursor: pointer;display: block;width: 100%;margin-bottom: 0;padding: 0.3em;box-sizing: border-box;text-align: center;}#sk-container-id-6 label.sk-toggleable__label-arrow:before {content: \"▸\";float: left;margin-right: 0.25em;color: #696969;}#sk-container-id-6 label.sk-toggleable__label-arrow:hover:before {color: black;}#sk-container-id-6 div.sk-estimator:hover label.sk-toggleable__label-arrow:before {color: black;}#sk-container-id-6 div.sk-toggleable__content {max-height: 0;max-width: 0;overflow: hidden;text-align: left;background-color: #f0f8ff;}#sk-container-id-6 div.sk-toggleable__content pre {margin: 0.2em;color: black;border-radius: 0.25em;background-color: #f0f8ff;}#sk-container-id-6 input.sk-toggleable__control:checked~div.sk-toggleable__content {max-height: 200px;max-width: 100%;overflow: auto;}#sk-container-id-6 input.sk-toggleable__control:checked~label.sk-toggleable__label-arrow:before {content: \"▾\";}#sk-container-id-6 div.sk-estimator input.sk-toggleable__control:checked~label.sk-toggleable__label {background-color: #d4ebff;}#sk-container-id-6 div.sk-label input.sk-toggleable__control:checked~label.sk-toggleable__label {background-color: #d4ebff;}#sk-container-id-6 input.sk-hidden--visually {border: 0;clip: rect(1px 1px 1px 1px);clip: rect(1px, 1px, 1px, 1px);height: 1px;margin: -1px;overflow: hidden;padding: 0;position: absolute;width: 1px;}#sk-container-id-6 div.sk-estimator {font-family: monospace;background-color: #f0f8ff;border: 1px dotted black;border-radius: 0.25em;box-sizing: border-box;margin-bottom: 0.5em;}#sk-container-id-6 div.sk-estimator:hover {background-color: #d4ebff;}#sk-container-id-6 div.sk-parallel-item::after {content: \"\";width: 100%;border-bottom: 1px solid gray;flex-grow: 1;}#sk-container-id-6 div.sk-label:hover label.sk-toggleable__label {background-color: #d4ebff;}#sk-container-id-6 div.sk-serial::before {content: \"\";position: absolute;border-left: 1px solid gray;box-sizing: border-box;top: 0;bottom: 0;left: 50%;z-index: 0;}#sk-container-id-6 div.sk-serial {display: flex;flex-direction: column;align-items: center;background-color: white;padding-right: 0.2em;padding-left: 0.2em;position: relative;}#sk-container-id-6 div.sk-item {position: relative;z-index: 1;}#sk-container-id-6 div.sk-parallel {display: flex;align-items: stretch;justify-content: center;background-color: white;position: relative;}#sk-container-id-6 div.sk-item::before, #sk-container-id-6 div.sk-parallel-item::before {content: \"\";position: absolute;border-left: 1px solid gray;box-sizing: border-box;top: 0;bottom: 0;left: 50%;z-index: -1;}#sk-container-id-6 div.sk-parallel-item {display: flex;flex-direction: column;z-index: 1;position: relative;background-color: white;}#sk-container-id-6 div.sk-parallel-item:first-child::after {align-self: flex-end;width: 50%;}#sk-container-id-6 div.sk-parallel-item:last-child::after {align-self: flex-start;width: 50%;}#sk-container-id-6 div.sk-parallel-item:only-child::after {width: 0;}#sk-container-id-6 div.sk-dashed-wrapped {border: 1px dashed gray;margin: 0 0.4em 0.5em 0.4em;box-sizing: border-box;padding-bottom: 0.4em;background-color: white;}#sk-container-id-6 div.sk-label label {font-family: monospace;font-weight: bold;display: inline-block;line-height: 1.2em;}#sk-container-id-6 div.sk-label-container {text-align: center;}#sk-container-id-6 div.sk-container {/* jupyter's `normalize.less` sets `[hidden] { display: none; }` but bootstrap.min.css set `[hidden] { display: none !important; }` so we also need the `!important` here to be able to override the default hidden behavior on the sphinx rendered scikit-learn.org. See: https://github.com/scikit-learn/scikit-learn/issues/21755 */display: inline-block !important;position: relative;}#sk-container-id-6 div.sk-text-repr-fallback {display: none;}</style><div id=\"sk-container-id-6\" class=\"sk-top-container\"><div class=\"sk-text-repr-fallback\"><pre>Pipeline(steps=[(&#x27;minmax&#x27;, MinMaxScaler()), (&#x27;GNB&#x27;, GaussianNB())])</pre><b>In a Jupyter environment, please rerun this cell to show the HTML representation or trust the notebook. <br />On GitHub, the HTML representation is unable to render, please try loading this page with nbviewer.org.</b></div><div class=\"sk-container\" hidden><div class=\"sk-item sk-dashed-wrapped\"><div class=\"sk-label-container\"><div class=\"sk-label sk-toggleable\"><input class=\"sk-toggleable__control sk-hidden--visually\" id=\"sk-estimator-id-20\" type=\"checkbox\" ><label for=\"sk-estimator-id-20\" class=\"sk-toggleable__label sk-toggleable__label-arrow\">Pipeline</label><div class=\"sk-toggleable__content\"><pre>Pipeline(steps=[(&#x27;minmax&#x27;, MinMaxScaler()), (&#x27;GNB&#x27;, GaussianNB())])</pre></div></div></div><div class=\"sk-serial\"><div class=\"sk-item\"><div class=\"sk-estimator sk-toggleable\"><input class=\"sk-toggleable__control sk-hidden--visually\" id=\"sk-estimator-id-21\" type=\"checkbox\" ><label for=\"sk-estimator-id-21\" class=\"sk-toggleable__label sk-toggleable__label-arrow\">MinMaxScaler</label><div class=\"sk-toggleable__content\"><pre>MinMaxScaler()</pre></div></div></div><div class=\"sk-item\"><div class=\"sk-estimator sk-toggleable\"><input class=\"sk-toggleable__control sk-hidden--visually\" id=\"sk-estimator-id-22\" type=\"checkbox\" ><label for=\"sk-estimator-id-22\" class=\"sk-toggleable__label sk-toggleable__label-arrow\">GaussianNB</label><div class=\"sk-toggleable__content\"><pre>GaussianNB()</pre></div></div></div></div></div></div></div>"
      ],
      "text/plain": [
       "Pipeline(steps=[('minmax', MinMaxScaler()), ('GNB', GaussianNB())])"
      ]
     },
     "execution_count": 67,
     "metadata": {},
     "output_type": "execute_result"
    }
   ],
   "source": [
    "gnb.fit(X_train_1, y_train_1)"
   ]
  },
  {
   "cell_type": "code",
   "execution_count": 68,
   "id": "fb36d89d",
   "metadata": {},
   "outputs": [],
   "source": [
    "pred_val = gnb.predict(X_val)"
   ]
  },
  {
   "cell_type": "code",
   "execution_count": 69,
   "id": "2fb52536",
   "metadata": {},
   "outputs": [
    {
     "name": "stdout",
     "output_type": "stream",
     "text": [
      "              precision    recall  f1-score   support\n",
      "\n",
      "           1       0.95      0.70      0.80     11750\n",
      "           2       0.30      0.83      0.44      1291\n",
      "           3       0.44      0.57      0.50      1087\n",
      "           4       0.57      0.71      0.63      1161\n",
      "           5       0.67      0.92      0.78       579\n",
      "\n",
      "    accuracy                           0.71     15868\n",
      "   macro avg       0.59      0.75      0.63     15868\n",
      "weighted avg       0.82      0.71      0.74     15868\n",
      "\n"
     ]
    }
   ],
   "source": [
    "print(classification_report(y_val, pred_val))"
   ]
  },
  {
   "cell_type": "code",
   "execution_count": 70,
   "id": "38a2a536",
   "metadata": {},
   "outputs": [
    {
     "name": "stdout",
     "output_type": "stream",
     "text": [
      "[[8219 2187  666  572  106]\n",
      " [ 149 1077   55    3    7]\n",
      " [  32  241  617   49  148]\n",
      " [ 271   54   10  826    0]\n",
      " [   0    2   44    0  533]]\n"
     ]
    }
   ],
   "source": [
    "print(confusion_matrix(y_val, pred_val))"
   ]
  },
  {
   "cell_type": "code",
   "execution_count": 71,
   "id": "82ee857b",
   "metadata": {},
   "outputs": [],
   "source": [
    "pred = gnb.predict(X_test)"
   ]
  },
  {
   "cell_type": "code",
   "execution_count": 72,
   "id": "084dce50",
   "metadata": {},
   "outputs": [
    {
     "name": "stdout",
     "output_type": "stream",
     "text": [
      "              precision    recall  f1-score   support\n",
      "\n",
      "           1       0.95      0.69      0.80     14688\n",
      "           2       0.29      0.80      0.43      1614\n",
      "           3       0.46      0.56      0.50      1358\n",
      "           4       0.56      0.74      0.63      1451\n",
      "           5       0.66      0.93      0.77       724\n",
      "\n",
      "    accuracy                           0.71     19835\n",
      "   macro avg       0.58      0.74      0.63     19835\n",
      "weighted avg       0.82      0.71      0.74     19835\n",
      "\n"
     ]
    }
   ],
   "source": [
    "print(classification_report(y_test, pred))"
   ]
  },
  {
   "cell_type": "code",
   "execution_count": 73,
   "id": "7b32e00b",
   "metadata": {},
   "outputs": [
    {
     "name": "stdout",
     "output_type": "stream",
     "text": [
      "[[10202  2778   771   778   159]\n",
      " [  234  1291    80     6     3]\n",
      " [   31   295   764    77   191]\n",
      " [  319    47    11  1074     0]\n",
      " [    0     1    52     0   671]]\n"
     ]
    }
   ],
   "source": [
    "print(confusion_matrix(y_test, pred))"
   ]
  },
  {
   "cell_type": "markdown",
   "id": "6dded583",
   "metadata": {},
   "source": [
    "# ANN"
   ]
  },
  {
   "cell_type": "code",
   "execution_count": 74,
   "id": "0b44646b",
   "metadata": {},
   "outputs": [],
   "source": [
    "from tensorflow.keras.models import Sequential"
   ]
  },
  {
   "cell_type": "code",
   "execution_count": 75,
   "id": "befbf7f5",
   "metadata": {},
   "outputs": [],
   "source": [
    "from tensorflow.keras.layers import Dense, Dropout\n",
    "from tensorflow.keras.callbacks import EarlyStopping\n",
    "from keras.utils import to_categorical"
   ]
  },
  {
   "cell_type": "code",
   "execution_count": 76,
   "id": "bc637073",
   "metadata": {},
   "outputs": [],
   "source": [
    "early_stop = EarlyStopping(monitor=\"val_loss\", mode=\"min\", verbose=1, patience=25)"
   ]
  },
  {
   "cell_type": "code",
   "execution_count": 77,
   "id": "08854911",
   "metadata": {},
   "outputs": [],
   "source": [
    "model = Sequential()"
   ]
  },
  {
   "cell_type": "code",
   "execution_count": 78,
   "id": "96cf9a78",
   "metadata": {},
   "outputs": [],
   "source": [
    "model.add(Dense(300, activation=\"relu\"))"
   ]
  },
  {
   "cell_type": "code",
   "execution_count": 79,
   "id": "8869db1f",
   "metadata": {},
   "outputs": [],
   "source": [
    "model.add(Dropout(0.5))"
   ]
  },
  {
   "cell_type": "code",
   "execution_count": 80,
   "id": "854cc1c7",
   "metadata": {},
   "outputs": [],
   "source": [
    "model.add(Dense(150, activation=\"relu\"))"
   ]
  },
  {
   "cell_type": "code",
   "execution_count": 81,
   "id": "0fe5b57a",
   "metadata": {},
   "outputs": [],
   "source": [
    "model.add(Dropout(0.5))"
   ]
  },
  {
   "cell_type": "code",
   "execution_count": 82,
   "id": "8203dfba",
   "metadata": {},
   "outputs": [],
   "source": [
    "model.add(Dense(75, activation=\"relu\"))"
   ]
  },
  {
   "cell_type": "code",
   "execution_count": 83,
   "id": "d681bcf4",
   "metadata": {},
   "outputs": [],
   "source": [
    "model.add(Dropout(0.5))"
   ]
  },
  {
   "cell_type": "code",
   "execution_count": 84,
   "id": "8466cac6",
   "metadata": {},
   "outputs": [],
   "source": [
    "model.add(Dense(35, activation=\"relu\"))"
   ]
  },
  {
   "cell_type": "code",
   "execution_count": 85,
   "id": "3ce92a0c",
   "metadata": {},
   "outputs": [],
   "source": [
    "model.add(Dropout(0.5))"
   ]
  },
  {
   "cell_type": "code",
   "execution_count": 86,
   "id": "fa8d27d1",
   "metadata": {},
   "outputs": [],
   "source": [
    "model.add(Dense(15, activation=\"relu\"))"
   ]
  },
  {
   "cell_type": "code",
   "execution_count": 87,
   "id": "d6b65e39",
   "metadata": {},
   "outputs": [],
   "source": [
    "model.add(Dropout(0.5))"
   ]
  },
  {
   "cell_type": "code",
   "execution_count": 88,
   "id": "68a20a0c",
   "metadata": {},
   "outputs": [],
   "source": [
    "model.add(Dense(5, activation=\"softmax\"))"
   ]
  },
  {
   "cell_type": "code",
   "execution_count": 89,
   "id": "440a93a2",
   "metadata": {},
   "outputs": [],
   "source": [
    "model.compile(loss=\"categorical_crossentropy\", optimizer=\"adam\")"
   ]
  },
  {
   "cell_type": "code",
   "execution_count": 94,
   "id": "099e5d15",
   "metadata": {},
   "outputs": [
    {
     "name": "stdout",
     "output_type": "stream",
     "text": [
      "Epoch 1/600\n",
      "1984/1984 [==============================] - 11s 5ms/step - loss: 0.6362 - val_loss: 0.3861\n",
      "Epoch 2/600\n",
      "1984/1984 [==============================] - 10s 5ms/step - loss: 0.4144 - val_loss: 0.2850\n",
      "Epoch 3/600\n",
      "1984/1984 [==============================] - 10s 5ms/step - loss: 0.3508 - val_loss: 0.2124\n",
      "Epoch 4/600\n",
      "1984/1984 [==============================] - 10s 5ms/step - loss: 0.3092 - val_loss: 0.1773\n",
      "Epoch 5/600\n",
      "1984/1984 [==============================] - 11s 5ms/step - loss: 0.2719 - val_loss: 0.1573\n",
      "Epoch 6/600\n",
      "1984/1984 [==============================] - 11s 5ms/step - loss: 0.2562 - val_loss: 0.1316\n",
      "Epoch 7/600\n",
      "1984/1984 [==============================] - 11s 6ms/step - loss: 0.2406 - val_loss: 0.1300\n",
      "Epoch 8/600\n",
      "1984/1984 [==============================] - 11s 5ms/step - loss: 0.2297 - val_loss: 0.1213\n",
      "Epoch 9/600\n",
      "1984/1984 [==============================] - 11s 6ms/step - loss: 0.2280 - val_loss: 0.1042\n",
      "Epoch 10/600\n",
      "1984/1984 [==============================] - 11s 6ms/step - loss: 0.2090 - val_loss: 0.1170\n",
      "Epoch 11/600\n",
      "1984/1984 [==============================] - 11s 6ms/step - loss: 0.2083 - val_loss: 0.1070\n",
      "Epoch 12/600\n",
      "1984/1984 [==============================] - 11s 6ms/step - loss: 0.2004 - val_loss: 0.0979\n",
      "Epoch 13/600\n",
      "1984/1984 [==============================] - 11s 6ms/step - loss: 0.1961 - val_loss: 0.1079\n",
      "Epoch 14/600\n",
      "1984/1984 [==============================] - 11s 6ms/step - loss: 0.1876 - val_loss: 0.0866\n",
      "Epoch 15/600\n",
      "1984/1984 [==============================] - 11s 6ms/step - loss: 0.1791 - val_loss: 0.0859\n",
      "Epoch 16/600\n",
      "1984/1984 [==============================] - 11s 6ms/step - loss: 0.1778 - val_loss: 0.0813\n",
      "Epoch 17/600\n",
      "1984/1984 [==============================] - 11s 6ms/step - loss: 0.1747 - val_loss: 0.0818\n",
      "Epoch 18/600\n",
      "1984/1984 [==============================] - 11s 6ms/step - loss: 0.1743 - val_loss: 0.0816\n",
      "Epoch 19/600\n",
      "1984/1984 [==============================] - 12s 6ms/step - loss: 0.1716 - val_loss: 0.0844\n",
      "Epoch 20/600\n",
      "1984/1984 [==============================] - 11s 6ms/step - loss: 0.1668 - val_loss: 0.0889\n",
      "Epoch 21/600\n",
      "1984/1984 [==============================] - 11s 6ms/step - loss: 0.1635 - val_loss: 0.0842\n",
      "Epoch 22/600\n",
      "1984/1984 [==============================] - 11s 6ms/step - loss: 0.1624 - val_loss: 0.0920\n",
      "Epoch 23/600\n",
      "1984/1984 [==============================] - 12s 6ms/step - loss: 0.1621 - val_loss: 0.0810\n",
      "Epoch 24/600\n",
      "1984/1984 [==============================] - 11s 6ms/step - loss: 0.1637 - val_loss: 0.0872\n",
      "Epoch 25/600\n",
      "1984/1984 [==============================] - 11s 6ms/step - loss: 0.1607 - val_loss: 0.0878\n",
      "Epoch 26/600\n",
      "1984/1984 [==============================] - 11s 5ms/step - loss: 0.1612 - val_loss: 0.0821\n",
      "Epoch 27/600\n",
      "1984/1984 [==============================] - 11s 5ms/step - loss: 0.1553 - val_loss: 0.0785\n",
      "Epoch 28/600\n",
      "1984/1984 [==============================] - 10s 5ms/step - loss: 0.1531 - val_loss: 0.0749\n",
      "Epoch 29/600\n",
      "1984/1984 [==============================] - 11s 5ms/step - loss: 0.1549 - val_loss: 0.0856\n",
      "Epoch 30/600\n",
      "1984/1984 [==============================] - 10s 5ms/step - loss: 0.1564 - val_loss: 0.0721\n",
      "Epoch 31/600\n",
      "1984/1984 [==============================] - 11s 5ms/step - loss: 0.1503 - val_loss: 0.0797\n",
      "Epoch 32/600\n",
      "1984/1984 [==============================] - 10s 5ms/step - loss: 0.1552 - val_loss: 0.0732\n",
      "Epoch 33/600\n",
      "1984/1984 [==============================] - 11s 5ms/step - loss: 0.1500 - val_loss: 0.0739\n",
      "Epoch 34/600\n",
      "1984/1984 [==============================] - 11s 6ms/step - loss: 0.1444 - val_loss: 0.0682\n",
      "Epoch 35/600\n",
      "1984/1984 [==============================] - 10s 5ms/step - loss: 0.1547 - val_loss: 0.0729\n",
      "Epoch 36/600\n",
      "1984/1984 [==============================] - 11s 6ms/step - loss: 0.1491 - val_loss: 0.0668\n",
      "Epoch 37/600\n",
      "1984/1984 [==============================] - 11s 5ms/step - loss: 0.1497 - val_loss: 0.0641\n",
      "Epoch 38/600\n",
      "1984/1984 [==============================] - 10s 5ms/step - loss: 0.1439 - val_loss: 0.0710\n",
      "Epoch 39/600\n",
      "1984/1984 [==============================] - 11s 5ms/step - loss: 0.1506 - val_loss: 0.0684\n",
      "Epoch 40/600\n",
      "1984/1984 [==============================] - 10s 5ms/step - loss: 0.1373 - val_loss: 0.0713\n",
      "Epoch 41/600\n",
      "1984/1984 [==============================] - 11s 6ms/step - loss: 0.1434 - val_loss: 0.0677\n",
      "Epoch 42/600\n",
      "1984/1984 [==============================] - 10s 5ms/step - loss: 0.1417 - val_loss: 0.0767\n",
      "Epoch 43/600\n",
      "1984/1984 [==============================] - 10s 5ms/step - loss: 0.1415 - val_loss: 0.0708\n",
      "Epoch 44/600\n",
      "1984/1984 [==============================] - 11s 5ms/step - loss: 0.1507 - val_loss: 0.0650\n",
      "Epoch 45/600\n",
      "1984/1984 [==============================] - 11s 5ms/step - loss: 0.1439 - val_loss: 0.0724\n",
      "Epoch 46/600\n",
      "1984/1984 [==============================] - 10s 5ms/step - loss: 0.1487 - val_loss: 0.0691\n",
      "Epoch 47/600\n",
      "1984/1984 [==============================] - 11s 5ms/step - loss: 0.1398 - val_loss: 0.0787\n",
      "Epoch 48/600\n",
      "1984/1984 [==============================] - 11s 5ms/step - loss: 0.1477 - val_loss: 0.0849\n",
      "Epoch 49/600\n",
      "1984/1984 [==============================] - 10s 5ms/step - loss: 0.1405 - val_loss: 0.0660\n",
      "Epoch 50/600\n",
      "1984/1984 [==============================] - 11s 5ms/step - loss: 0.1400 - val_loss: 0.0718\n",
      "Epoch 51/600\n",
      "1984/1984 [==============================] - 11s 5ms/step - loss: 0.1519 - val_loss: 0.0691\n",
      "Epoch 52/600\n",
      "1984/1984 [==============================] - 11s 5ms/step - loss: 0.1337 - val_loss: 0.0689\n",
      "Epoch 53/600\n",
      "1984/1984 [==============================] - 384s 194ms/step - loss: 0.1342 - val_loss: 0.0746\n",
      "Epoch 54/600\n",
      "1984/1984 [==============================] - 9s 4ms/step - loss: 0.1354 - val_loss: 0.0782\n",
      "Epoch 55/600\n",
      "1984/1984 [==============================] - 8s 4ms/step - loss: 0.1369 - val_loss: 0.0796\n",
      "Epoch 56/600\n",
      "1984/1984 [==============================] - 8s 4ms/step - loss: 0.1476 - val_loss: 0.0704\n",
      "Epoch 57/600\n",
      "1984/1984 [==============================] - 8s 4ms/step - loss: 0.1456 - val_loss: 0.0695\n",
      "Epoch 58/600\n",
      "1984/1984 [==============================] - 8s 4ms/step - loss: 0.1412 - val_loss: 0.0807\n",
      "Epoch 59/600\n",
      "1984/1984 [==============================] - 8s 4ms/step - loss: 0.1359 - val_loss: 0.0677\n",
      "Epoch 60/600\n",
      "1984/1984 [==============================] - 8s 4ms/step - loss: 0.1393 - val_loss: 0.0711\n",
      "Epoch 61/600\n",
      "1984/1984 [==============================] - 9s 4ms/step - loss: 0.1427 - val_loss: 0.0687\n",
      "Epoch 62/600\n",
      "1984/1984 [==============================] - 9s 5ms/step - loss: 0.1326 - val_loss: 0.0694\n",
      "Epoch 62: early stopping\n"
     ]
    },
    {
     "data": {
      "text/plain": [
       "<keras.callbacks.History at 0x7fce885ebe20>"
      ]
     },
     "execution_count": 94,
     "metadata": {},
     "output_type": "execute_result"
    }
   ],
   "source": [
    "model.fit(\n",
    "    x=X_train_1,\n",
    "    y=to_categorical(y_train_1)[:, 1:],\n",
    "    epochs=600,\n",
    "    validation_data=(X_val, to_categorical(y_val)[:, 1:]),\n",
    "    batch_size=32,\n",
    "    callbacks=[early_stop],\n",
    ")"
   ]
  },
  {
   "cell_type": "code",
   "execution_count": 95,
   "id": "2f8c25c0",
   "metadata": {},
   "outputs": [],
   "source": [
    "losses = pd.DataFrame(model.history.history)"
   ]
  },
  {
   "cell_type": "code",
   "execution_count": 96,
   "id": "7e61b4da",
   "metadata": {},
   "outputs": [
    {
     "data": {
      "text/plain": [
       "<Axes: >"
      ]
     },
     "execution_count": 96,
     "metadata": {},
     "output_type": "execute_result"
    },
    {
     "data": {
      "image/png": "[encoded data removed]",
      "text/plain": [
       "<Figure size 640x480 with 1 Axes>"
      ]
     },
     "metadata": {},
     "output_type": "display_data"
    }
   ],
   "source": [
    "losses.plot()"
   ]
  },
  {
   "cell_type": "code",
   "execution_count": 97,
   "id": "2c8079f3",
   "metadata": {},
   "outputs": [
    {
     "name": "stdout",
     "output_type": "stream",
     "text": [
      "620/620 [==============================] - 1s 2ms/step\n"
     ]
    }
   ],
   "source": [
    "probs = model.predict(X_test)"
   ]
  },
  {
   "cell_type": "code",
   "execution_count": 98,
   "id": "becfcbd2",
   "metadata": {},
   "outputs": [],
   "source": [
    "preds = np.argmax(probs, axis=1)"
   ]
  },
  {
   "cell_type": "code",
   "execution_count": 99,
   "id": "6a8e4477",
   "metadata": {},
   "outputs": [],
   "source": [
    "preds = preds + 1"
   ]
  },
  {
   "cell_type": "code",
   "execution_count": 100,
   "id": "bf23959a",
   "metadata": {},
   "outputs": [
    {
     "data": {
      "text/plain": [
       "array([3, 1, 1, ..., 1, 2, 1])"
      ]
     },
     "execution_count": 100,
     "metadata": {},
     "output_type": "execute_result"
    }
   ],
   "source": [
    "y_test"
   ]
  },
  {
   "cell_type": "code",
   "execution_count": 101,
   "id": "2ffec930",
   "metadata": {},
   "outputs": [
    {
     "name": "stdout",
     "output_type": "stream",
     "text": [
      "              precision    recall  f1-score   support\n",
      "\n",
      "           1       0.99      1.00      0.99     14688\n",
      "           2       0.98      0.93      0.95      1358\n",
      "           3       1.00      1.00      1.00       724\n",
      "           4       0.98      0.99      0.98      1614\n",
      "           5       0.99      0.99      0.99      1451\n",
      "\n",
      "    accuracy                           0.99     19835\n",
      "   macro avg       0.99      0.98      0.98     19835\n",
      "weighted avg       0.99      0.99      0.99     19835\n",
      "\n"
     ]
    }
   ],
   "source": [
    "print(classification_report(y_test, preds))"
   ]
  },
  {
   "cell_type": "code",
   "execution_count": 102,
   "id": "e7fcdff4",
   "metadata": {},
   "outputs": [
    {
     "name": "stdout",
     "output_type": "stream",
     "text": [
      "[[14638    21     1    18    10]\n",
      " [   84  1257     1    11     5]\n",
      " [    1     0   722     1     0]\n",
      " [   10     9     0  1592     3]\n",
      " [   10     0     0     1  1440]]\n"
     ]
    }
   ],
   "source": [
    "print(confusion_matrix(y_test, preds))"
   ]
  },
  {
   "cell_type": "code",
   "execution_count": null,
   "id": "e176245d",
   "metadata": {},
   "outputs": [],
   "source": []
  },
  {
   "cell_type": "code",
   "execution_count": null,
   "id": "a584ed7a",
   "metadata": {},
   "outputs": [],
   "source": []
  },
  {
   "cell_type": "code",
   "execution_count": null,
   "id": "a792de15",
   "metadata": {},
   "outputs": [],
   "source": []
  },
  {
   "cell_type": "code",
   "execution_count": null,
   "id": "99794d3f",
   "metadata": {},
   "outputs": [],
   "source": []
  }
 ],
 "metadata": {
  "kernelspec": {
   "display_name": "Python 3 (ipykernel)",
   "language": "python",
   "name": "python3"
  },
  "language_info": {
   "codemirror_mode": {
    "name": "ipython",
    "version": 3
   },
   "file_extension": ".py",
   "mimetype": "text/x-python",
   "name": "python",
   "nbconvert_exporter": "python",
   "pygments_lexer": "ipython3",
   "version": "3.10.13"
  }
 },
 "nbformat": 4,
 "nbformat_minor": 5
}
